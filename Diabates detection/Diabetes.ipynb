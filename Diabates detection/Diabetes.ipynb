{
 "cells": [
  {
   "cell_type": "markdown",
   "id": "267e34ab",
   "metadata": {},
   "source": [
    "### Import Necessaries Libraries"
   ]
  },
  {
   "cell_type": "code",
   "execution_count": 41,
   "id": "a5a761db",
   "metadata": {
    "ExecuteTime": {
     "end_time": "2023-07-19T12:24:53.062954Z",
     "start_time": "2023-07-19T12:24:53.051986Z"
    }
   },
   "outputs": [],
   "source": [
    "## most important\n",
    "import pandas as pd\n",
    "import numpy as np\n",
    "import matplotlib.pyplot as plt\n",
    "import seaborn as sns\n",
    "\n",
    "## Preprocessing\n",
    "from sklearn.feature_selection import SelectPercentile ,chi2\n",
    "from sklearn.pipeline import Pipeline\n",
    "from sklearn.impute import SimpleImputer\n",
    "from sklearn.preprocessing import StandardScaler\n",
    "\n",
    "## model selection \n",
    "from sklearn.model_selection import train_test_split,cross_val_score, RandomizedSearchCV \n",
    "\n",
    "## Models\n",
    "from sklearn.linear_model import LinearRegression\n",
    "from sklearn.tree import DecisionTreeClassifier \n",
    "from sklearn.ensemble import RandomForestClassifier\n",
    "from sklearn.neighbors import KNeighborsClassifier\n",
    "from sklearn.naive_bayes import BernoulliNB\n",
    "\n",
    "\n",
    "import joblib"
   ]
  },
  {
   "cell_type": "markdown",
   "id": "c691bd71",
   "metadata": {},
   "source": [
    "### Load the data and look at the big picture"
   ]
  },
  {
   "cell_type": "code",
   "execution_count": 2,
   "id": "d0bc106c",
   "metadata": {
    "ExecuteTime": {
     "end_time": "2023-07-19T12:07:17.076025Z",
     "start_time": "2023-07-19T12:07:17.013932Z"
    }
   },
   "outputs": [
    {
     "data": {
      "text/html": [
       "<div>\n",
       "<style scoped>\n",
       "    .dataframe tbody tr th:only-of-type {\n",
       "        vertical-align: middle;\n",
       "    }\n",
       "\n",
       "    .dataframe tbody tr th {\n",
       "        vertical-align: top;\n",
       "    }\n",
       "\n",
       "    .dataframe thead th {\n",
       "        text-align: right;\n",
       "    }\n",
       "</style>\n",
       "<table border=\"1\" class=\"dataframe\">\n",
       "  <thead>\n",
       "    <tr style=\"text-align: right;\">\n",
       "      <th></th>\n",
       "      <th>Pregnancies</th>\n",
       "      <th>Glucose</th>\n",
       "      <th>BloodPressure</th>\n",
       "      <th>SkinThickness</th>\n",
       "      <th>Insulin</th>\n",
       "      <th>BMI</th>\n",
       "      <th>DiabetesPedigreeFunction</th>\n",
       "      <th>Age</th>\n",
       "      <th>Outcome</th>\n",
       "    </tr>\n",
       "  </thead>\n",
       "  <tbody>\n",
       "    <tr>\n",
       "      <th>0</th>\n",
       "      <td>6</td>\n",
       "      <td>148</td>\n",
       "      <td>72</td>\n",
       "      <td>35</td>\n",
       "      <td>0</td>\n",
       "      <td>33.6</td>\n",
       "      <td>0.627</td>\n",
       "      <td>50</td>\n",
       "      <td>1</td>\n",
       "    </tr>\n",
       "    <tr>\n",
       "      <th>1</th>\n",
       "      <td>1</td>\n",
       "      <td>85</td>\n",
       "      <td>66</td>\n",
       "      <td>29</td>\n",
       "      <td>0</td>\n",
       "      <td>26.6</td>\n",
       "      <td>0.351</td>\n",
       "      <td>31</td>\n",
       "      <td>0</td>\n",
       "    </tr>\n",
       "    <tr>\n",
       "      <th>2</th>\n",
       "      <td>8</td>\n",
       "      <td>183</td>\n",
       "      <td>64</td>\n",
       "      <td>0</td>\n",
       "      <td>0</td>\n",
       "      <td>23.3</td>\n",
       "      <td>0.672</td>\n",
       "      <td>32</td>\n",
       "      <td>1</td>\n",
       "    </tr>\n",
       "    <tr>\n",
       "      <th>3</th>\n",
       "      <td>1</td>\n",
       "      <td>89</td>\n",
       "      <td>66</td>\n",
       "      <td>23</td>\n",
       "      <td>94</td>\n",
       "      <td>28.1</td>\n",
       "      <td>0.167</td>\n",
       "      <td>21</td>\n",
       "      <td>0</td>\n",
       "    </tr>\n",
       "    <tr>\n",
       "      <th>4</th>\n",
       "      <td>0</td>\n",
       "      <td>137</td>\n",
       "      <td>40</td>\n",
       "      <td>35</td>\n",
       "      <td>168</td>\n",
       "      <td>43.1</td>\n",
       "      <td>2.288</td>\n",
       "      <td>33</td>\n",
       "      <td>1</td>\n",
       "    </tr>\n",
       "  </tbody>\n",
       "</table>\n",
       "</div>"
      ],
      "text/plain": [
       "   Pregnancies  Glucose  BloodPressure  SkinThickness  Insulin   BMI  \\\n",
       "0            6      148             72             35        0  33.6   \n",
       "1            1       85             66             29        0  26.6   \n",
       "2            8      183             64              0        0  23.3   \n",
       "3            1       89             66             23       94  28.1   \n",
       "4            0      137             40             35      168  43.1   \n",
       "\n",
       "   DiabetesPedigreeFunction  Age  Outcome  \n",
       "0                     0.627   50        1  \n",
       "1                     0.351   31        0  \n",
       "2                     0.672   32        1  \n",
       "3                     0.167   21        0  \n",
       "4                     2.288   33        1  "
      ]
     },
     "execution_count": 2,
     "metadata": {},
     "output_type": "execute_result"
    }
   ],
   "source": [
    "## read csv file\n",
    "df = pd.read_csv('diabetes.csv')\n",
    "\n",
    "## show the head\n",
    "df.head()"
   ]
  },
  {
   "cell_type": "code",
   "execution_count": 3,
   "id": "5ee50981",
   "metadata": {
    "ExecuteTime": {
     "end_time": "2023-07-19T12:07:17.555693Z",
     "start_time": "2023-07-19T12:07:17.511685Z"
    }
   },
   "outputs": [
    {
     "name": "stdout",
     "output_type": "stream",
     "text": [
      "<class 'pandas.core.frame.DataFrame'>\n",
      "RangeIndex: 768 entries, 0 to 767\n",
      "Data columns (total 9 columns):\n",
      " #   Column                    Non-Null Count  Dtype  \n",
      "---  ------                    --------------  -----  \n",
      " 0   Pregnancies               768 non-null    int64  \n",
      " 1   Glucose                   768 non-null    int64  \n",
      " 2   BloodPressure             768 non-null    int64  \n",
      " 3   SkinThickness             768 non-null    int64  \n",
      " 4   Insulin                   768 non-null    int64  \n",
      " 5   BMI                       768 non-null    float64\n",
      " 6   DiabetesPedigreeFunction  768 non-null    float64\n",
      " 7   Age                       768 non-null    int64  \n",
      " 8   Outcome                   768 non-null    int64  \n",
      "dtypes: float64(2), int64(7)\n",
      "memory usage: 54.1 KB\n"
     ]
    }
   ],
   "source": [
    "## check info\n",
    "df.info()"
   ]
  },
  {
   "cell_type": "code",
   "execution_count": 4,
   "id": "76c96552",
   "metadata": {
    "ExecuteTime": {
     "end_time": "2023-07-19T12:07:17.818257Z",
     "start_time": "2023-07-19T12:07:17.720788Z"
    }
   },
   "outputs": [
    {
     "data": {
      "text/html": [
       "<div>\n",
       "<style scoped>\n",
       "    .dataframe tbody tr th:only-of-type {\n",
       "        vertical-align: middle;\n",
       "    }\n",
       "\n",
       "    .dataframe tbody tr th {\n",
       "        vertical-align: top;\n",
       "    }\n",
       "\n",
       "    .dataframe thead th {\n",
       "        text-align: right;\n",
       "    }\n",
       "</style>\n",
       "<table border=\"1\" class=\"dataframe\">\n",
       "  <thead>\n",
       "    <tr style=\"text-align: right;\">\n",
       "      <th></th>\n",
       "      <th>Pregnancies</th>\n",
       "      <th>Glucose</th>\n",
       "      <th>BloodPressure</th>\n",
       "      <th>SkinThickness</th>\n",
       "      <th>Insulin</th>\n",
       "      <th>BMI</th>\n",
       "      <th>DiabetesPedigreeFunction</th>\n",
       "      <th>Age</th>\n",
       "      <th>Outcome</th>\n",
       "    </tr>\n",
       "  </thead>\n",
       "  <tbody>\n",
       "    <tr>\n",
       "      <th>count</th>\n",
       "      <td>768.00</td>\n",
       "      <td>768.00</td>\n",
       "      <td>768.00</td>\n",
       "      <td>768.00</td>\n",
       "      <td>768.00</td>\n",
       "      <td>768.00</td>\n",
       "      <td>768.00</td>\n",
       "      <td>768.00</td>\n",
       "      <td>768.00</td>\n",
       "    </tr>\n",
       "    <tr>\n",
       "      <th>mean</th>\n",
       "      <td>3.85</td>\n",
       "      <td>120.89</td>\n",
       "      <td>69.11</td>\n",
       "      <td>20.54</td>\n",
       "      <td>79.80</td>\n",
       "      <td>31.99</td>\n",
       "      <td>0.47</td>\n",
       "      <td>33.24</td>\n",
       "      <td>0.35</td>\n",
       "    </tr>\n",
       "    <tr>\n",
       "      <th>std</th>\n",
       "      <td>3.37</td>\n",
       "      <td>31.97</td>\n",
       "      <td>19.36</td>\n",
       "      <td>15.95</td>\n",
       "      <td>115.24</td>\n",
       "      <td>7.88</td>\n",
       "      <td>0.33</td>\n",
       "      <td>11.76</td>\n",
       "      <td>0.48</td>\n",
       "    </tr>\n",
       "    <tr>\n",
       "      <th>min</th>\n",
       "      <td>0.00</td>\n",
       "      <td>0.00</td>\n",
       "      <td>0.00</td>\n",
       "      <td>0.00</td>\n",
       "      <td>0.00</td>\n",
       "      <td>0.00</td>\n",
       "      <td>0.08</td>\n",
       "      <td>21.00</td>\n",
       "      <td>0.00</td>\n",
       "    </tr>\n",
       "    <tr>\n",
       "      <th>25%</th>\n",
       "      <td>1.00</td>\n",
       "      <td>99.00</td>\n",
       "      <td>62.00</td>\n",
       "      <td>0.00</td>\n",
       "      <td>0.00</td>\n",
       "      <td>27.30</td>\n",
       "      <td>0.24</td>\n",
       "      <td>24.00</td>\n",
       "      <td>0.00</td>\n",
       "    </tr>\n",
       "    <tr>\n",
       "      <th>50%</th>\n",
       "      <td>3.00</td>\n",
       "      <td>117.00</td>\n",
       "      <td>72.00</td>\n",
       "      <td>23.00</td>\n",
       "      <td>30.50</td>\n",
       "      <td>32.00</td>\n",
       "      <td>0.37</td>\n",
       "      <td>29.00</td>\n",
       "      <td>0.00</td>\n",
       "    </tr>\n",
       "    <tr>\n",
       "      <th>75%</th>\n",
       "      <td>6.00</td>\n",
       "      <td>140.25</td>\n",
       "      <td>80.00</td>\n",
       "      <td>32.00</td>\n",
       "      <td>127.25</td>\n",
       "      <td>36.60</td>\n",
       "      <td>0.63</td>\n",
       "      <td>41.00</td>\n",
       "      <td>1.00</td>\n",
       "    </tr>\n",
       "    <tr>\n",
       "      <th>max</th>\n",
       "      <td>17.00</td>\n",
       "      <td>199.00</td>\n",
       "      <td>122.00</td>\n",
       "      <td>99.00</td>\n",
       "      <td>846.00</td>\n",
       "      <td>67.10</td>\n",
       "      <td>2.42</td>\n",
       "      <td>81.00</td>\n",
       "      <td>1.00</td>\n",
       "    </tr>\n",
       "  </tbody>\n",
       "</table>\n",
       "</div>"
      ],
      "text/plain": [
       "       Pregnancies  Glucose  BloodPressure  SkinThickness  Insulin     BMI  \\\n",
       "count       768.00   768.00         768.00         768.00   768.00  768.00   \n",
       "mean          3.85   120.89          69.11          20.54    79.80   31.99   \n",
       "std           3.37    31.97          19.36          15.95   115.24    7.88   \n",
       "min           0.00     0.00           0.00           0.00     0.00    0.00   \n",
       "25%           1.00    99.00          62.00           0.00     0.00   27.30   \n",
       "50%           3.00   117.00          72.00          23.00    30.50   32.00   \n",
       "75%           6.00   140.25          80.00          32.00   127.25   36.60   \n",
       "max          17.00   199.00         122.00          99.00   846.00   67.10   \n",
       "\n",
       "       DiabetesPedigreeFunction     Age  Outcome  \n",
       "count                    768.00  768.00   768.00  \n",
       "mean                       0.47   33.24     0.35  \n",
       "std                        0.33   11.76     0.48  \n",
       "min                        0.08   21.00     0.00  \n",
       "25%                        0.24   24.00     0.00  \n",
       "50%                        0.37   29.00     0.00  \n",
       "75%                        0.63   41.00     1.00  \n",
       "max                        2.42   81.00     1.00  "
      ]
     },
     "execution_count": 4,
     "metadata": {},
     "output_type": "execute_result"
    }
   ],
   "source": [
    "## some statistics\n",
    "df.describe().round(2)"
   ]
  },
  {
   "cell_type": "markdown",
   "id": "74a29421",
   "metadata": {},
   "source": [
    "`Comment:  It seems that dataset is contains 768 instances and 9 features \n",
    "         - the min value in  5 columns = 0 (Glucose, BloodPressure, Skin Thickness, Insulin, BMI)\n",
    "         - In skin Thickness and Insulin Column less than or equal 25% of the data are null values\n",
    "         - all this an errors in data collection`"
   ]
  },
  {
   "cell_type": "markdown",
   "id": "8356b49f",
   "metadata": {},
   "source": [
    "### Exploratory Data Analysis (EDA)"
   ]
  },
  {
   "cell_type": "code",
   "execution_count": 5,
   "id": "d5c69bf0",
   "metadata": {
    "ExecuteTime": {
     "end_time": "2023-07-19T12:07:24.877430Z",
     "start_time": "2023-07-19T12:07:24.854492Z"
    }
   },
   "outputs": [],
   "source": [
    "## convert zeros values to missing values to determine how many missing values in our data\n",
    "\n",
    "df[['Glucose','BloodPressure','SkinThickness','Insulin','BMI']]=df[['Glucose','BloodPressure','SkinThickness','Insulin','BMI']].replace(0 , np.nan)"
   ]
  },
  {
   "cell_type": "code",
   "execution_count": 6,
   "id": "de00eaf8",
   "metadata": {
    "ExecuteTime": {
     "end_time": "2023-07-19T12:07:26.323000Z",
     "start_time": "2023-07-19T12:07:26.308040Z"
    }
   },
   "outputs": [
    {
     "data": {
      "text/plain": [
       "Pregnancies                   0\n",
       "Glucose                       5\n",
       "BloodPressure                35\n",
       "SkinThickness               227\n",
       "Insulin                     374\n",
       "BMI                          11\n",
       "DiabetesPedigreeFunction      0\n",
       "Age                           0\n",
       "Outcome                       0\n",
       "dtype: int64"
      ]
     },
     "execution_count": 6,
     "metadata": {},
     "output_type": "execute_result"
    }
   ],
   "source": [
    "## check null values \n",
    "df.isna().sum()"
   ]
  },
  {
   "cell_type": "markdown",
   "id": "50aa59d5",
   "metadata": {},
   "source": [
    "### filling missing values"
   ]
  },
  {
   "cell_type": "code",
   "execution_count": 7,
   "id": "326dc998",
   "metadata": {
    "ExecuteTime": {
     "end_time": "2023-07-19T12:07:38.520526Z",
     "start_time": "2023-07-19T12:07:38.508522Z"
    }
   },
   "outputs": [],
   "source": [
    "imputer = SimpleImputer(missing_values=np.nan , strategy= 'median')\n",
    "df = imputer.fit_transform(df)"
   ]
  },
  {
   "cell_type": "code",
   "execution_count": 8,
   "id": "81e39e88",
   "metadata": {
    "ExecuteTime": {
     "end_time": "2023-07-19T12:07:39.033782Z",
     "start_time": "2023-07-19T12:07:38.997877Z"
    }
   },
   "outputs": [
    {
     "data": {
      "text/html": [
       "<div>\n",
       "<style scoped>\n",
       "    .dataframe tbody tr th:only-of-type {\n",
       "        vertical-align: middle;\n",
       "    }\n",
       "\n",
       "    .dataframe tbody tr th {\n",
       "        vertical-align: top;\n",
       "    }\n",
       "\n",
       "    .dataframe thead th {\n",
       "        text-align: right;\n",
       "    }\n",
       "</style>\n",
       "<table border=\"1\" class=\"dataframe\">\n",
       "  <thead>\n",
       "    <tr style=\"text-align: right;\">\n",
       "      <th></th>\n",
       "      <th>Pregnancies</th>\n",
       "      <th>Glucose</th>\n",
       "      <th>BloodPressure</th>\n",
       "      <th>SkinThickness</th>\n",
       "      <th>Insulin</th>\n",
       "      <th>BMI</th>\n",
       "      <th>DiabetesPedigreeFunction</th>\n",
       "      <th>age</th>\n",
       "      <th>Outcome</th>\n",
       "    </tr>\n",
       "  </thead>\n",
       "  <tbody>\n",
       "    <tr>\n",
       "      <th>0</th>\n",
       "      <td>6.0</td>\n",
       "      <td>148.0</td>\n",
       "      <td>72.0</td>\n",
       "      <td>35.0</td>\n",
       "      <td>125.0</td>\n",
       "      <td>33.6</td>\n",
       "      <td>0.627</td>\n",
       "      <td>50.0</td>\n",
       "      <td>1.0</td>\n",
       "    </tr>\n",
       "    <tr>\n",
       "      <th>1</th>\n",
       "      <td>1.0</td>\n",
       "      <td>85.0</td>\n",
       "      <td>66.0</td>\n",
       "      <td>29.0</td>\n",
       "      <td>125.0</td>\n",
       "      <td>26.6</td>\n",
       "      <td>0.351</td>\n",
       "      <td>31.0</td>\n",
       "      <td>0.0</td>\n",
       "    </tr>\n",
       "    <tr>\n",
       "      <th>2</th>\n",
       "      <td>8.0</td>\n",
       "      <td>183.0</td>\n",
       "      <td>64.0</td>\n",
       "      <td>29.0</td>\n",
       "      <td>125.0</td>\n",
       "      <td>23.3</td>\n",
       "      <td>0.672</td>\n",
       "      <td>32.0</td>\n",
       "      <td>1.0</td>\n",
       "    </tr>\n",
       "    <tr>\n",
       "      <th>3</th>\n",
       "      <td>1.0</td>\n",
       "      <td>89.0</td>\n",
       "      <td>66.0</td>\n",
       "      <td>23.0</td>\n",
       "      <td>94.0</td>\n",
       "      <td>28.1</td>\n",
       "      <td>0.167</td>\n",
       "      <td>21.0</td>\n",
       "      <td>0.0</td>\n",
       "    </tr>\n",
       "    <tr>\n",
       "      <th>4</th>\n",
       "      <td>0.0</td>\n",
       "      <td>137.0</td>\n",
       "      <td>40.0</td>\n",
       "      <td>35.0</td>\n",
       "      <td>168.0</td>\n",
       "      <td>43.1</td>\n",
       "      <td>2.288</td>\n",
       "      <td>33.0</td>\n",
       "      <td>1.0</td>\n",
       "    </tr>\n",
       "  </tbody>\n",
       "</table>\n",
       "</div>"
      ],
      "text/plain": [
       "   Pregnancies  Glucose  BloodPressure  SkinThickness  Insulin   BMI  \\\n",
       "0          6.0    148.0           72.0           35.0    125.0  33.6   \n",
       "1          1.0     85.0           66.0           29.0    125.0  26.6   \n",
       "2          8.0    183.0           64.0           29.0    125.0  23.3   \n",
       "3          1.0     89.0           66.0           23.0     94.0  28.1   \n",
       "4          0.0    137.0           40.0           35.0    168.0  43.1   \n",
       "\n",
       "   DiabetesPedigreeFunction   age  Outcome  \n",
       "0                     0.627  50.0      1.0  \n",
       "1                     0.351  31.0      0.0  \n",
       "2                     0.672  32.0      1.0  \n",
       "3                     0.167  21.0      0.0  \n",
       "4                     2.288  33.0      1.0  "
      ]
     },
     "execution_count": 8,
     "metadata": {},
     "output_type": "execute_result"
    }
   ],
   "source": [
    "## convert data to dataframe to deal with\n",
    "df = pd.DataFrame(df, columns=['Pregnancies','Glucose','BloodPressure','SkinThickness','Insulin','BMI','DiabetesPedigreeFunction','age','Outcome'])\n",
    "df.head()"
   ]
  },
  {
   "cell_type": "code",
   "execution_count": 9,
   "id": "f17d6102",
   "metadata": {
    "ExecuteTime": {
     "end_time": "2023-07-19T12:07:39.080816Z",
     "start_time": "2023-07-19T12:07:39.060748Z"
    }
   },
   "outputs": [
    {
     "data": {
      "text/plain": [
       "Pregnancies                 0\n",
       "Glucose                     0\n",
       "BloodPressure               0\n",
       "SkinThickness               0\n",
       "Insulin                     0\n",
       "BMI                         0\n",
       "DiabetesPedigreeFunction    0\n",
       "age                         0\n",
       "Outcome                     0\n",
       "dtype: int64"
      ]
     },
     "execution_count": 9,
     "metadata": {},
     "output_type": "execute_result"
    }
   ],
   "source": [
    "## check nulls\n",
    "df.isna().sum()"
   ]
  },
  {
   "cell_type": "code",
   "execution_count": 10,
   "id": "091e72e2",
   "metadata": {
    "ExecuteTime": {
     "end_time": "2023-07-19T12:07:40.482934Z",
     "start_time": "2023-07-19T12:07:39.119757Z"
    }
   },
   "outputs": [
    {
     "data": {
      "image/png": "[encoded data removed]",
      "text/plain": [
       "<Figure size 864x432 with 2 Axes>"
      ]
     },
     "metadata": {
      "needs_background": "light"
     },
     "output_type": "display_data"
    }
   ],
   "source": [
    "##show correlation\n",
    "plt.figure(figsize=(12,6))\n",
    "sns.heatmap(df.corr(), annot=True,cmap= 'YlGnBu' )\n",
    "plt.title('Correlation between columns',fontsize = 15 ,color = 'b')\n",
    "plt.show()"
   ]
  },
  {
   "cell_type": "code",
   "execution_count": 11,
   "id": "9513b5f8",
   "metadata": {
    "ExecuteTime": {
     "end_time": "2023-07-19T12:07:40.513879Z",
     "start_time": "2023-07-19T12:07:40.488872Z"
    }
   },
   "outputs": [],
   "source": [
    "## split the dataset to feature--> X and target--> Y\n",
    "X = df.drop('Outcome',axis =1)\n",
    "Y = df['Outcome']"
   ]
  },
  {
   "cell_type": "markdown",
   "id": "e8e88752",
   "metadata": {},
   "source": [
    "### Feature selection"
   ]
  },
  {
   "cell_type": "code",
   "execution_count": 12,
   "id": "f5007726",
   "metadata": {
    "ExecuteTime": {
     "end_time": "2023-07-19T12:07:40.560438Z",
     "start_time": "2023-07-19T12:07:40.521006Z"
    }
   },
   "outputs": [],
   "source": [
    "featureselection = SelectPercentile(score_func=chi2 ,percentile= 80)\n",
    "new_X = featureselection.fit_transform(X, Y)"
   ]
  },
  {
   "cell_type": "code",
   "execution_count": 13,
   "id": "2dcd2267",
   "metadata": {
    "ExecuteTime": {
     "end_time": "2023-07-19T12:07:40.592404Z",
     "start_time": "2023-07-19T12:07:40.568355Z"
    }
   },
   "outputs": [
    {
     "data": {
      "text/plain": [
       "array([ True,  True, False,  True,  True,  True, False,  True])"
      ]
     },
     "execution_count": 13,
     "metadata": {},
     "output_type": "execute_result"
    }
   ],
   "source": [
    "featureselection.get_support()"
   ]
  },
  {
   "cell_type": "code",
   "execution_count": null,
   "id": "eb7b2b4d",
   "metadata": {},
   "outputs": [],
   "source": []
  },
  {
   "cell_type": "markdown",
   "id": "5fc1575b",
   "metadata": {},
   "source": [
    "### Spliting data to train and test"
   ]
  },
  {
   "cell_type": "code",
   "execution_count": 14,
   "id": "94c6e14a",
   "metadata": {
    "ExecuteTime": {
     "end_time": "2023-07-19T12:07:43.179563Z",
     "start_time": "2023-07-19T12:07:43.165274Z"
    }
   },
   "outputs": [],
   "source": [
    "## apply train_test_split\n",
    "X_train , X_test , Y_train ,Y_test = train_test_split(new_X,Y,test_size=0.2,random_state=42) "
   ]
  },
  {
   "cell_type": "code",
   "execution_count": 15,
   "id": "45a302d6",
   "metadata": {
    "ExecuteTime": {
     "end_time": "2023-07-19T12:07:46.113381Z",
     "start_time": "2023-07-19T12:07:46.096352Z"
    }
   },
   "outputs": [
    {
     "data": {
      "text/plain": [
       "(614, 6)"
      ]
     },
     "execution_count": 15,
     "metadata": {},
     "output_type": "execute_result"
    }
   ],
   "source": [
    "X_train.shape"
   ]
  },
  {
   "cell_type": "code",
   "execution_count": 16,
   "id": "5c68bf61",
   "metadata": {
    "ExecuteTime": {
     "end_time": "2023-07-19T12:07:47.964329Z",
     "start_time": "2023-07-19T12:07:47.941992Z"
    }
   },
   "outputs": [],
   "source": [
    "scaler = StandardScaler()\n",
    "X_train_scaled = scaler.fit_transform(X_train)\n",
    "X_test_scaled = scaler.transform(X_test)"
   ]
  },
  {
   "cell_type": "markdown",
   "id": "b1d7fafe",
   "metadata": {},
   "source": [
    "### Building ML Models"
   ]
  },
  {
   "cell_type": "code",
   "execution_count": 17,
   "id": "5eb7809f",
   "metadata": {
    "ExecuteTime": {
     "end_time": "2023-07-19T12:07:50.049610Z",
     "start_time": "2023-07-19T12:07:50.033204Z"
    }
   },
   "outputs": [],
   "source": [
    "## define function to train models\n",
    "def train(model ,model_name):\n",
    "    model.fit(X_train_scaled,Y_train)\n",
    "    model_train_score = model.score(X_train_scaled,Y_train)\n",
    "    model_test_score = model.score(X_test_scaled,Y_test)\n",
    "    print(f'{model_name} score on Training data is {model_train_score}\\n {model_name} score on testing data is {model_test_score}')\n",
    "\n",
    "##function to cross vaidation     \n",
    "def kfolds(model, model_name):\n",
    "    model = cross_val_score(model, X,Y, cv=5)\n",
    "    model_score = np.average(model)\n",
    "    print(f\"{model_name} score on cross validation: {model_score * 100}%\")\n",
    "    "
   ]
  },
  {
   "cell_type": "markdown",
   "id": "04aa696e",
   "metadata": {},
   "source": [
    "`1- Linear Regression`"
   ]
  },
  {
   "cell_type": "code",
   "execution_count": 18,
   "id": "caa1acdb",
   "metadata": {
    "ExecuteTime": {
     "end_time": "2023-07-19T12:07:54.795346Z",
     "start_time": "2023-07-19T12:07:54.718092Z"
    }
   },
   "outputs": [
    {
     "name": "stdout",
     "output_type": "stream",
     "text": [
      "Linear Regression score on Training data is 0.31677363433624806\n",
      " Linear Regression score on testing data is 0.26745939853853107\n"
     ]
    }
   ],
   "source": [
    "lr = LinearRegression()\n",
    "train(lr , 'Linear Regression')"
   ]
  },
  {
   "cell_type": "markdown",
   "id": "9bc30742",
   "metadata": {},
   "source": [
    "`2- Decision Tree`"
   ]
  },
  {
   "cell_type": "code",
   "execution_count": 19,
   "id": "38869913",
   "metadata": {
    "ExecuteTime": {
     "end_time": "2023-07-19T12:07:59.323277Z",
     "start_time": "2023-07-19T12:07:59.306286Z"
    }
   },
   "outputs": [
    {
     "name": "stdout",
     "output_type": "stream",
     "text": [
      "Decision Tree score on Training data is 0.7768729641693811\n",
      " Decision Tree score on testing data is 0.7727272727272727\n"
     ]
    }
   ],
   "source": [
    "dt = DecisionTreeClassifier(max_depth= 3,criterion='entropy', random_state=42)\n",
    "train(dt ,'Decision Tree')"
   ]
  },
  {
   "cell_type": "markdown",
   "id": "43620a40",
   "metadata": {},
   "source": [
    "`3- RandomForest`"
   ]
  },
  {
   "cell_type": "code",
   "execution_count": 26,
   "id": "d87a5e76",
   "metadata": {
    "ExecuteTime": {
     "end_time": "2023-07-19T12:14:35.006466Z",
     "start_time": "2023-07-19T12:14:34.136949Z"
    }
   },
   "outputs": [
    {
     "name": "stdout",
     "output_type": "stream",
     "text": [
      "Random Forest score on Training data is 0.7882736156351792\n",
      " Random Forest score on testing data is 0.7532467532467533\n",
      "Random Forest score on cross validation: 75.65656565656566%\n"
     ]
    }
   ],
   "source": [
    "rf = RandomForestClassifier(n_estimators=100 ,max_depth= 3 ,class_weight='balanced',random_state=42,max_samples=0.8 )\n",
    "train(rf ,'Random Forest')\n",
    "kfolds(rf ,'Random Forest')"
   ]
  },
  {
   "cell_type": "markdown",
   "id": "be2d9aa7",
   "metadata": {},
   "source": [
    "`4- KNN`"
   ]
  },
  {
   "cell_type": "code",
   "execution_count": 23,
   "id": "8cdba8a2",
   "metadata": {
    "ExecuteTime": {
     "end_time": "2023-07-19T12:08:41.217024Z",
     "start_time": "2023-07-19T12:08:41.013283Z"
    }
   },
   "outputs": [
    {
     "name": "stdout",
     "output_type": "stream",
     "text": [
      "KNN score on Training data is 0.8029315960912052\n",
      " KNN score on testing data is 0.7597402597402597\n",
      "KNN score on cross validation: 74.35786435786437%\n"
     ]
    }
   ],
   "source": [
    "knn = KNeighborsClassifier(n_neighbors=10 ,weights='uniform' ,algorithm='auto')\n",
    "train(knn , 'KNN')\n",
    "kfolds(knn ,'KNN')"
   ]
  },
  {
   "cell_type": "markdown",
   "id": "a2944a64",
   "metadata": {},
   "source": [
    "`5- Naieve Bayes`"
   ]
  },
  {
   "cell_type": "code",
   "execution_count": 24,
   "id": "10adf30d",
   "metadata": {
    "ExecuteTime": {
     "end_time": "2023-07-19T12:09:18.041013Z",
     "start_time": "2023-07-19T12:09:17.972004Z"
    }
   },
   "outputs": [
    {
     "name": "stdout",
     "output_type": "stream",
     "text": [
      "NaieveBase score on Training data is 0.744299674267101\n",
      " NaieveBase score on testing data is 0.7337662337662337\n",
      "Naievebase score on cross validation: 65.49698667345726%\n"
     ]
    }
   ],
   "source": [
    "nb = BernoulliNB(binarize=1) \n",
    "train(nb , 'NaieveBase')\n",
    "kfolds(nb, 'Naievebase')"
   ]
  },
  {
   "cell_type": "markdown",
   "id": "5a39b2b9",
   "metadata": {},
   "source": [
    "### Tunening for highest score"
   ]
  },
  {
   "cell_type": "code",
   "execution_count": 37,
   "id": "92e8ac9f",
   "metadata": {
    "ExecuteTime": {
     "end_time": "2023-07-19T12:23:31.288280Z",
     "start_time": "2023-07-19T12:23:31.272286Z"
    }
   },
   "outputs": [],
   "source": [
    "best_params = {\n",
    "    'n_estimators':np.arange(100,400,50),\n",
    "    'max_depth':np.arange(2,10,1),\n",
    "    'max_samples': [0.6,0.7,0.8,0.9]\n",
    "\n",
    "}\n",
    "\n",
    "rand_forest_search = RandomizedSearchCV(estimator= rf, param_distributions= best_params ,n_iter= 20, cv= 5, verbose= 6)"
   ]
  },
  {
   "cell_type": "code",
   "execution_count": 38,
   "id": "56b3718b",
   "metadata": {
    "ExecuteTime": {
     "end_time": "2023-07-19T12:24:03.953956Z",
     "start_time": "2023-07-19T12:23:32.449335Z"
    }
   },
   "outputs": [
    {
     "name": "stdout",
     "output_type": "stream",
     "text": [
      "Fitting 5 folds for each of 20 candidates, totalling 100 fits\n",
      "[CV 1/5] END max_depth=4, max_samples=0.8, n_estimators=250;, score=0.756 total time=   0.2s\n",
      "[CV 2/5] END max_depth=4, max_samples=0.8, n_estimators=250;, score=0.780 total time=   0.3s\n",
      "[CV 3/5] END max_depth=4, max_samples=0.8, n_estimators=250;, score=0.740 total time=   0.3s\n",
      "[CV 4/5] END max_depth=4, max_samples=0.8, n_estimators=250;, score=0.748 total time=   0.2s\n",
      "[CV 5/5] END max_depth=4, max_samples=0.8, n_estimators=250;, score=0.746 total time=   0.2s\n",
      "[CV 1/5] END max_depth=7, max_samples=0.6, n_estimators=300;, score=0.780 total time=   0.3s\n",
      "[CV 2/5] END max_depth=7, max_samples=0.6, n_estimators=300;, score=0.813 total time=   0.3s\n",
      "[CV 3/5] END max_depth=7, max_samples=0.6, n_estimators=300;, score=0.756 total time=   0.3s\n",
      "[CV 4/5] END max_depth=7, max_samples=0.6, n_estimators=300;, score=0.756 total time=   0.3s\n",
      "[CV 5/5] END max_depth=7, max_samples=0.6, n_estimators=300;, score=0.779 total time=   0.3s\n",
      "[CV 1/5] END max_depth=7, max_samples=0.7, n_estimators=150;, score=0.772 total time=   0.1s\n",
      "[CV 2/5] END max_depth=7, max_samples=0.7, n_estimators=150;, score=0.805 total time=   0.1s\n",
      "[CV 3/5] END max_depth=7, max_samples=0.7, n_estimators=150;, score=0.780 total time=   0.1s\n",
      "[CV 4/5] END max_depth=7, max_samples=0.7, n_estimators=150;, score=0.740 total time=   0.1s\n",
      "[CV 5/5] END max_depth=7, max_samples=0.7, n_estimators=150;, score=0.754 total time=   0.1s\n",
      "[CV 1/5] END max_depth=9, max_samples=0.7, n_estimators=100;, score=0.756 total time=   0.0s\n",
      "[CV 2/5] END max_depth=9, max_samples=0.7, n_estimators=100;, score=0.813 total time=   0.0s\n",
      "[CV 3/5] END max_depth=9, max_samples=0.7, n_estimators=100;, score=0.756 total time=   0.0s\n",
      "[CV 4/5] END max_depth=9, max_samples=0.7, n_estimators=100;, score=0.740 total time=   0.0s\n",
      "[CV 5/5] END max_depth=9, max_samples=0.7, n_estimators=100;, score=0.770 total time=   0.0s\n",
      "[CV 1/5] END max_depth=9, max_samples=0.8, n_estimators=250;, score=0.748 total time=   0.2s\n",
      "[CV 2/5] END max_depth=9, max_samples=0.8, n_estimators=250;, score=0.813 total time=   0.3s\n",
      "[CV 3/5] END max_depth=9, max_samples=0.8, n_estimators=250;, score=0.748 total time=   0.3s\n",
      "[CV 4/5] END max_depth=9, max_samples=0.8, n_estimators=250;, score=0.740 total time=   0.3s\n",
      "[CV 5/5] END max_depth=9, max_samples=0.8, n_estimators=250;, score=0.787 total time=   0.2s\n",
      "[CV 1/5] END max_depth=5, max_samples=0.8, n_estimators=250;, score=0.756 total time=   0.2s\n",
      "[CV 2/5] END max_depth=5, max_samples=0.8, n_estimators=250;, score=0.780 total time=   0.2s\n",
      "[CV 3/5] END max_depth=5, max_samples=0.8, n_estimators=250;, score=0.764 total time=   0.2s\n",
      "[CV 4/5] END max_depth=5, max_samples=0.8, n_estimators=250;, score=0.748 total time=   0.2s\n",
      "[CV 5/5] END max_depth=5, max_samples=0.8, n_estimators=250;, score=0.746 total time=   0.2s\n",
      "[CV 1/5] END max_depth=5, max_samples=0.7, n_estimators=100;, score=0.764 total time=   0.0s\n",
      "[CV 2/5] END max_depth=5, max_samples=0.7, n_estimators=100;, score=0.756 total time=   0.0s\n",
      "[CV 3/5] END max_depth=5, max_samples=0.7, n_estimators=100;, score=0.772 total time=   0.0s\n",
      "[CV 4/5] END max_depth=5, max_samples=0.7, n_estimators=100;, score=0.740 total time=   0.0s\n",
      "[CV 5/5] END max_depth=5, max_samples=0.7, n_estimators=100;, score=0.762 total time=   0.0s\n",
      "[CV 1/5] END max_depth=4, max_samples=0.8, n_estimators=350;, score=0.756 total time=   0.3s\n",
      "[CV 2/5] END max_depth=4, max_samples=0.8, n_estimators=350;, score=0.772 total time=   0.3s\n",
      "[CV 3/5] END max_depth=4, max_samples=0.8, n_estimators=350;, score=0.748 total time=   0.3s\n",
      "[CV 4/5] END max_depth=4, max_samples=0.8, n_estimators=350;, score=0.748 total time=   0.4s\n",
      "[CV 5/5] END max_depth=4, max_samples=0.8, n_estimators=350;, score=0.746 total time=   0.4s\n",
      "[CV 1/5] END max_depth=6, max_samples=0.9, n_estimators=100;, score=0.748 total time=   0.0s\n",
      "[CV 2/5] END max_depth=6, max_samples=0.9, n_estimators=100;, score=0.780 total time=   0.1s\n",
      "[CV 3/5] END max_depth=6, max_samples=0.9, n_estimators=100;, score=0.756 total time=   0.0s\n",
      "[CV 4/5] END max_depth=6, max_samples=0.9, n_estimators=100;, score=0.724 total time=   0.0s\n",
      "[CV 5/5] END max_depth=6, max_samples=0.9, n_estimators=100;, score=0.779 total time=   0.1s\n",
      "[CV 1/5] END max_depth=8, max_samples=0.9, n_estimators=150;, score=0.756 total time=   0.1s\n",
      "[CV 2/5] END max_depth=8, max_samples=0.9, n_estimators=150;, score=0.797 total time=   0.1s\n",
      "[CV 3/5] END max_depth=8, max_samples=0.9, n_estimators=150;, score=0.756 total time=   0.1s\n",
      "[CV 4/5] END max_depth=8, max_samples=0.9, n_estimators=150;, score=0.740 total time=   0.1s\n",
      "[CV 5/5] END max_depth=8, max_samples=0.9, n_estimators=150;, score=0.746 total time=   0.1s\n",
      "[CV 1/5] END max_depth=7, max_samples=0.7, n_estimators=250;, score=0.780 total time=   0.3s\n",
      "[CV 2/5] END max_depth=7, max_samples=0.7, n_estimators=250;, score=0.797 total time=   0.3s\n",
      "[CV 3/5] END max_depth=7, max_samples=0.7, n_estimators=250;, score=0.764 total time=   0.3s\n",
      "[CV 4/5] END max_depth=7, max_samples=0.7, n_estimators=250;, score=0.724 total time=   0.2s\n",
      "[CV 5/5] END max_depth=7, max_samples=0.7, n_estimators=250;, score=0.787 total time=   0.3s\n",
      "[CV 1/5] END max_depth=2, max_samples=0.7, n_estimators=250;, score=0.756 total time=   0.2s\n",
      "[CV 2/5] END max_depth=2, max_samples=0.7, n_estimators=250;, score=0.764 total time=   0.2s\n",
      "[CV 3/5] END max_depth=2, max_samples=0.7, n_estimators=250;, score=0.772 total time=   0.2s\n",
      "[CV 4/5] END max_depth=2, max_samples=0.7, n_estimators=250;, score=0.789 total time=   0.2s\n",
      "[CV 5/5] END max_depth=2, max_samples=0.7, n_estimators=250;, score=0.754 total time=   0.2s\n",
      "[CV 1/5] END max_depth=3, max_samples=0.6, n_estimators=300;, score=0.740 total time=   0.3s\n",
      "[CV 2/5] END max_depth=3, max_samples=0.6, n_estimators=300;, score=0.764 total time=   0.3s\n",
      "[CV 3/5] END max_depth=3, max_samples=0.6, n_estimators=300;, score=0.748 total time=   0.3s\n",
      "[CV 4/5] END max_depth=3, max_samples=0.6, n_estimators=300;, score=0.772 total time=   0.3s\n",
      "[CV 5/5] END max_depth=3, max_samples=0.6, n_estimators=300;, score=0.754 total time=   0.3s\n",
      "[CV 1/5] END max_depth=6, max_samples=0.8, n_estimators=250;, score=0.756 total time=   0.2s\n",
      "[CV 2/5] END max_depth=6, max_samples=0.8, n_estimators=250;, score=0.805 total time=   0.2s\n",
      "[CV 3/5] END max_depth=6, max_samples=0.8, n_estimators=250;, score=0.764 total time=   0.2s\n",
      "[CV 4/5] END max_depth=6, max_samples=0.8, n_estimators=250;, score=0.740 total time=   0.2s\n",
      "[CV 5/5] END max_depth=6, max_samples=0.8, n_estimators=250;, score=0.770 total time=   0.3s\n",
      "[CV 1/5] END max_depth=5, max_samples=0.9, n_estimators=200;, score=0.756 total time=   0.3s\n",
      "[CV 2/5] END max_depth=5, max_samples=0.9, n_estimators=200;, score=0.772 total time=   0.2s\n",
      "[CV 3/5] END max_depth=5, max_samples=0.9, n_estimators=200;, score=0.748 total time=   0.2s\n",
      "[CV 4/5] END max_depth=5, max_samples=0.9, n_estimators=200;, score=0.748 total time=   0.2s\n",
      "[CV 5/5] END max_depth=5, max_samples=0.9, n_estimators=200;, score=0.746 total time=   0.2s\n",
      "[CV 1/5] END max_depth=8, max_samples=0.8, n_estimators=250;, score=0.748 total time=   0.3s\n",
      "[CV 2/5] END max_depth=8, max_samples=0.8, n_estimators=250;, score=0.813 total time=   0.2s\n",
      "[CV 3/5] END max_depth=8, max_samples=0.8, n_estimators=250;, score=0.748 total time=   0.2s\n",
      "[CV 4/5] END max_depth=8, max_samples=0.8, n_estimators=250;, score=0.732 total time=   0.2s\n",
      "[CV 5/5] END max_depth=8, max_samples=0.8, n_estimators=250;, score=0.779 total time=   0.2s\n",
      "[CV 1/5] END max_depth=3, max_samples=0.9, n_estimators=250;, score=0.748 total time=   0.2s\n",
      "[CV 2/5] END max_depth=3, max_samples=0.9, n_estimators=250;, score=0.772 total time=   0.4s\n",
      "[CV 3/5] END max_depth=3, max_samples=0.9, n_estimators=250;, score=0.756 total time=   0.2s\n",
      "[CV 4/5] END max_depth=3, max_samples=0.9, n_estimators=250;, score=0.748 total time=   0.2s\n",
      "[CV 5/5] END max_depth=3, max_samples=0.9, n_estimators=250;, score=0.754 total time=   0.2s\n",
      "[CV 1/5] END max_depth=5, max_samples=0.8, n_estimators=100;, score=0.756 total time=   0.0s\n",
      "[CV 2/5] END max_depth=5, max_samples=0.8, n_estimators=100;, score=0.780 total time=   0.0s\n",
      "[CV 3/5] END max_depth=5, max_samples=0.8, n_estimators=100;, score=0.756 total time=   0.0s\n"
     ]
    },
    {
     "name": "stdout",
     "output_type": "stream",
     "text": [
      "[CV 4/5] END max_depth=5, max_samples=0.8, n_estimators=100;, score=0.748 total time=   0.1s\n",
      "[CV 5/5] END max_depth=5, max_samples=0.8, n_estimators=100;, score=0.746 total time=   0.1s\n",
      "[CV 1/5] END max_depth=3, max_samples=0.7, n_estimators=300;, score=0.748 total time=   0.3s\n",
      "[CV 2/5] END max_depth=3, max_samples=0.7, n_estimators=300;, score=0.764 total time=   0.3s\n",
      "[CV 3/5] END max_depth=3, max_samples=0.7, n_estimators=300;, score=0.764 total time=   0.4s\n",
      "[CV 4/5] END max_depth=3, max_samples=0.7, n_estimators=300;, score=0.756 total time=   0.3s\n",
      "[CV 5/5] END max_depth=3, max_samples=0.7, n_estimators=300;, score=0.746 total time=   0.4s\n",
      "[CV 1/5] END max_depth=6, max_samples=0.9, n_estimators=300;, score=0.764 total time=   0.3s\n",
      "[CV 2/5] END max_depth=6, max_samples=0.9, n_estimators=300;, score=0.780 total time=   0.3s\n",
      "[CV 3/5] END max_depth=6, max_samples=0.9, n_estimators=300;, score=0.764 total time=   0.4s\n",
      "[CV 4/5] END max_depth=6, max_samples=0.9, n_estimators=300;, score=0.740 total time=   0.3s\n",
      "[CV 5/5] END max_depth=6, max_samples=0.9, n_estimators=300;, score=0.762 total time=   0.3s\n"
     ]
    },
    {
     "data": {
      "text/plain": [
       "RandomizedSearchCV(cv=5,\n",
       "                   estimator=RandomForestClassifier(class_weight='balanced',\n",
       "                                                    max_depth=3,\n",
       "                                                    max_samples=0.8,\n",
       "                                                    random_state=42),\n",
       "                   n_iter=20,\n",
       "                   param_distributions={'max_depth': array([2, 3, 4, 5, 6, 7, 8, 9]),\n",
       "                                        'max_samples': [0.6, 0.7, 0.8, 0.9],\n",
       "                                        'n_estimators': array([100, 150, 200, 250, 300, 350])},\n",
       "                   verbose=6)"
      ]
     },
     "execution_count": 38,
     "metadata": {},
     "output_type": "execute_result"
    }
   ],
   "source": [
    "#len(np.arange(100,400,50))*len(np.arange(2,10,1))*len([0.6,0.7,0.8,0.9])\n",
    "rand_forest_search.fit(X_train_scaled, Y_train)"
   ]
  },
  {
   "cell_type": "code",
   "execution_count": 39,
   "id": "9e825863",
   "metadata": {
    "ExecuteTime": {
     "end_time": "2023-07-19T12:24:09.217963Z",
     "start_time": "2023-07-19T12:24:09.207958Z"
    }
   },
   "outputs": [
    {
     "data": {
      "text/plain": [
       "RandomForestClassifier(class_weight='balanced', max_depth=7, max_samples=0.6,\n",
       "                       n_estimators=300, random_state=42)"
      ]
     },
     "execution_count": 39,
     "metadata": {},
     "output_type": "execute_result"
    }
   ],
   "source": [
    "best_forest= rand_forest_search.best_estimator_\n",
    "best_forest"
   ]
  },
  {
   "cell_type": "code",
   "execution_count": 40,
   "id": "5b343f2f",
   "metadata": {
    "ExecuteTime": {
     "end_time": "2023-07-19T12:24:10.937308Z",
     "start_time": "2023-07-19T12:24:10.444047Z"
    }
   },
   "outputs": [
    {
     "name": "stdout",
     "output_type": "stream",
     "text": [
      "Random Forest Tunned score on Training data is 0.8762214983713354\n",
      " Random Forest Tunned score on testing data is 0.7402597402597403\n"
     ]
    }
   ],
   "source": [
    "train(best_forest, 'Random Forest Tunned')"
   ]
  },
  {
   "cell_type": "markdown",
   "id": "2213fe9b",
   "metadata": {},
   "source": [
    "### Save the best model"
   ]
  },
  {
   "cell_type": "code",
   "execution_count": 42,
   "id": "836b2ffa",
   "metadata": {
    "ExecuteTime": {
     "end_time": "2023-07-19T12:25:31.828088Z",
     "start_time": "2023-07-19T12:25:31.663001Z"
    }
   },
   "outputs": [
    {
     "data": {
      "text/plain": [
       "['model_randomforest']"
      ]
     },
     "execution_count": 42,
     "metadata": {},
     "output_type": "execute_result"
    }
   ],
   "source": [
    "joblib.dump(best_forest,'model_randomforest')"
   ]
  },
  {
   "cell_type": "code",
   "execution_count": null,
   "id": "c80c7d8e",
   "metadata": {},
   "outputs": [],
   "source": []
  }
 ],
 "metadata": {
  "kernelspec": {
   "display_name": "Python 3 (ipykernel)",
   "language": "python",
   "name": "python3"
  },
  "language_info": {
   "codemirror_mode": {
    "name": "ipython",
    "version": 3
   },
   "file_extension": ".py",
   "mimetype": "text/x-python",
   "name": "python",
   "nbconvert_exporter": "python",
   "pygments_lexer": "ipython3",
   "version": "3.9.7"
  }
 },
 "nbformat": 4,
 "nbformat_minor": 5
}
