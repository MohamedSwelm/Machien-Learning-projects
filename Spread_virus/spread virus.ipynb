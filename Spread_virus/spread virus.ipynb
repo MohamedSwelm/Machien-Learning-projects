{
 "cells": [
  {
   "cell_type": "markdown",
   "id": "441cd822",
   "metadata": {},
   "source": [
    "### Import Necessaries Libraries"
   ]
  },
  {
   "cell_type": "code",
   "execution_count": 1,
   "id": "7c189d6e",
   "metadata": {
    "ExecuteTime": {
     "end_time": "2023-07-19T12:33:52.310620Z",
     "start_time": "2023-07-19T12:33:50.326267Z"
    }
   },
   "outputs": [],
   "source": [
    "## main libraries\n",
    "import pandas as pd\n",
    "import numpy as np\n",
    "import seaborn as sns\n",
    "from matplotlib import pyplot as plt\n",
    "%matplotlib inline\n",
    "\n",
    "\n",
    "## preprocessing\n",
    "from sklearn.preprocessing import MinMaxScaler\n",
    "from sklearn.preprocessing import StandardScaler\n",
    "\n",
    "## model selection\n",
    "from sklearn.model_selection import train_test_split\n",
    "\n",
    "\n",
    "## models\n",
    "from sklearn.cluster import KMeans\n",
    "from sklearn import tree\n",
    "\n",
    "## save model\n",
    "import pickle\n",
    "import joblib\n",
    "\n",
    "## others\n",
    "import warnings\n",
    "warnings.filterwarnings(\"ignore\")"
   ]
  },
  {
   "cell_type": "markdown",
   "id": "c8eef7c0",
   "metadata": {},
   "source": [
    "### Load the data And Look at the big picture"
   ]
  },
  {
   "cell_type": "code",
   "execution_count": 4,
   "id": "22f53d3e",
   "metadata": {
    "ExecuteTime": {
     "end_time": "2023-07-19T12:37:07.759540Z",
     "start_time": "2023-07-19T12:37:07.387563Z"
    }
   },
   "outputs": [
    {
     "data": {
      "text/html": [
       "<div>\n",
       "<style scoped>\n",
       "    .dataframe tbody tr th:only-of-type {\n",
       "        vertical-align: middle;\n",
       "    }\n",
       "\n",
       "    .dataframe tbody tr th {\n",
       "        vertical-align: top;\n",
       "    }\n",
       "\n",
       "    .dataframe thead th {\n",
       "        text-align: right;\n",
       "    }\n",
       "</style>\n",
       "<table border=\"1\" class=\"dataframe\">\n",
       "  <thead>\n",
       "    <tr style=\"text-align: right;\">\n",
       "      <th></th>\n",
       "      <th>Unnamed: 0</th>\n",
       "      <th>Country/Region</th>\n",
       "      <th>Province/State</th>\n",
       "      <th>time</th>\n",
       "      <th>summary</th>\n",
       "      <th>icon</th>\n",
       "      <th>sunriseTime</th>\n",
       "      <th>sunsetTime</th>\n",
       "      <th>moonPhase</th>\n",
       "      <th>precipIntensity</th>\n",
       "      <th>...</th>\n",
       "      <th>temperatureMinTime</th>\n",
       "      <th>temperatureMax</th>\n",
       "      <th>temperatureMaxTime</th>\n",
       "      <th>apparentTemperatureMin</th>\n",
       "      <th>apparentTemperatureMinTime</th>\n",
       "      <th>apparentTemperatureMax</th>\n",
       "      <th>apparentTemperatureMaxTime</th>\n",
       "      <th>Lat</th>\n",
       "      <th>Long</th>\n",
       "      <th>precipAccumulation</th>\n",
       "    </tr>\n",
       "  </thead>\n",
       "  <tbody>\n",
       "    <tr>\n",
       "      <th>0</th>\n",
       "      <td>0</td>\n",
       "      <td>Afghanistan</td>\n",
       "      <td>NaN</td>\n",
       "      <td>2019-12-31</td>\n",
       "      <td>Rain (with a chance of 1–3 in. of snow) until ...</td>\n",
       "      <td>rain</td>\n",
       "      <td>1.577847e+09</td>\n",
       "      <td>1.577883e+09</td>\n",
       "      <td>0.20</td>\n",
       "      <td>0.0156</td>\n",
       "      <td>...</td>\n",
       "      <td>1577827140</td>\n",
       "      <td>48.36</td>\n",
       "      <td>1577864700</td>\n",
       "      <td>30.51</td>\n",
       "      <td>1577835720</td>\n",
       "      <td>47.86</td>\n",
       "      <td>1577864700</td>\n",
       "      <td>33.0</td>\n",
       "      <td>65.0</td>\n",
       "      <td>NaN</td>\n",
       "    </tr>\n",
       "    <tr>\n",
       "      <th>1</th>\n",
       "      <td>1</td>\n",
       "      <td>Afghanistan</td>\n",
       "      <td>NaN</td>\n",
       "      <td>2020-01-01</td>\n",
       "      <td>Light rain throughout the day.</td>\n",
       "      <td>rain</td>\n",
       "      <td>1.577933e+09</td>\n",
       "      <td>1.577969e+09</td>\n",
       "      <td>0.23</td>\n",
       "      <td>0.0235</td>\n",
       "      <td>...</td>\n",
       "      <td>1577918820</td>\n",
       "      <td>40.42</td>\n",
       "      <td>1577951460</td>\n",
       "      <td>29.84</td>\n",
       "      <td>1577919420</td>\n",
       "      <td>40.08</td>\n",
       "      <td>1577951220</td>\n",
       "      <td>33.0</td>\n",
       "      <td>65.0</td>\n",
       "      <td>NaN</td>\n",
       "    </tr>\n",
       "    <tr>\n",
       "      <th>2</th>\n",
       "      <td>2</td>\n",
       "      <td>Afghanistan</td>\n",
       "      <td>NaN</td>\n",
       "      <td>2020-01-02</td>\n",
       "      <td>Clear throughout the day.</td>\n",
       "      <td>rain</td>\n",
       "      <td>1.578019e+09</td>\n",
       "      <td>1.578056e+09</td>\n",
       "      <td>0.26</td>\n",
       "      <td>0.0016</td>\n",
       "      <td>...</td>\n",
       "      <td>1578020400</td>\n",
       "      <td>46.53</td>\n",
       "      <td>1578038340</td>\n",
       "      <td>26.27</td>\n",
       "      <td>1578020400</td>\n",
       "      <td>46.03</td>\n",
       "      <td>1578038340</td>\n",
       "      <td>33.0</td>\n",
       "      <td>65.0</td>\n",
       "      <td>NaN</td>\n",
       "    </tr>\n",
       "    <tr>\n",
       "      <th>3</th>\n",
       "      <td>3</td>\n",
       "      <td>Afghanistan</td>\n",
       "      <td>NaN</td>\n",
       "      <td>2020-01-03</td>\n",
       "      <td>Partly cloudy throughout the day.</td>\n",
       "      <td>partly-cloudy-day</td>\n",
       "      <td>1.578106e+09</td>\n",
       "      <td>1.578142e+09</td>\n",
       "      <td>0.30</td>\n",
       "      <td>0.0003</td>\n",
       "      <td>...</td>\n",
       "      <td>1578106320</td>\n",
       "      <td>45.77</td>\n",
       "      <td>1578124500</td>\n",
       "      <td>26.96</td>\n",
       "      <td>1578093240</td>\n",
       "      <td>45.35</td>\n",
       "      <td>1578124260</td>\n",
       "      <td>33.0</td>\n",
       "      <td>65.0</td>\n",
       "      <td>NaN</td>\n",
       "    </tr>\n",
       "    <tr>\n",
       "      <th>4</th>\n",
       "      <td>4</td>\n",
       "      <td>Afghanistan</td>\n",
       "      <td>NaN</td>\n",
       "      <td>2020-01-04</td>\n",
       "      <td>Light rain throughout the day.</td>\n",
       "      <td>rain</td>\n",
       "      <td>1.578192e+09</td>\n",
       "      <td>1.578228e+09</td>\n",
       "      <td>0.33</td>\n",
       "      <td>0.0145</td>\n",
       "      <td>...</td>\n",
       "      <td>1578193080</td>\n",
       "      <td>40.84</td>\n",
       "      <td>1578222000</td>\n",
       "      <td>33.33</td>\n",
       "      <td>1578193080</td>\n",
       "      <td>40.34</td>\n",
       "      <td>1578222000</td>\n",
       "      <td>33.0</td>\n",
       "      <td>65.0</td>\n",
       "      <td>NaN</td>\n",
       "    </tr>\n",
       "  </tbody>\n",
       "</table>\n",
       "<p>5 rows × 45 columns</p>\n",
       "</div>"
      ],
      "text/plain": [
       "   Unnamed: 0 Country/Region Province/State        time  \\\n",
       "0           0    Afghanistan            NaN  2019-12-31   \n",
       "1           1    Afghanistan            NaN  2020-01-01   \n",
       "2           2    Afghanistan            NaN  2020-01-02   \n",
       "3           3    Afghanistan            NaN  2020-01-03   \n",
       "4           4    Afghanistan            NaN  2020-01-04   \n",
       "\n",
       "                                             summary               icon  \\\n",
       "0  Rain (with a chance of 1–3 in. of snow) until ...               rain   \n",
       "1                     Light rain throughout the day.               rain   \n",
       "2                          Clear throughout the day.               rain   \n",
       "3                  Partly cloudy throughout the day.  partly-cloudy-day   \n",
       "4                     Light rain throughout the day.               rain   \n",
       "\n",
       "    sunriseTime    sunsetTime  moonPhase  precipIntensity  ...  \\\n",
       "0  1.577847e+09  1.577883e+09       0.20           0.0156  ...   \n",
       "1  1.577933e+09  1.577969e+09       0.23           0.0235  ...   \n",
       "2  1.578019e+09  1.578056e+09       0.26           0.0016  ...   \n",
       "3  1.578106e+09  1.578142e+09       0.30           0.0003  ...   \n",
       "4  1.578192e+09  1.578228e+09       0.33           0.0145  ...   \n",
       "\n",
       "   temperatureMinTime  temperatureMax  temperatureMaxTime  \\\n",
       "0          1577827140           48.36          1577864700   \n",
       "1          1577918820           40.42          1577951460   \n",
       "2          1578020400           46.53          1578038340   \n",
       "3          1578106320           45.77          1578124500   \n",
       "4          1578193080           40.84          1578222000   \n",
       "\n",
       "  apparentTemperatureMin  apparentTemperatureMinTime  apparentTemperatureMax  \\\n",
       "0                  30.51                  1577835720                   47.86   \n",
       "1                  29.84                  1577919420                   40.08   \n",
       "2                  26.27                  1578020400                   46.03   \n",
       "3                  26.96                  1578093240                   45.35   \n",
       "4                  33.33                  1578193080                   40.34   \n",
       "\n",
       "   apparentTemperatureMaxTime   Lat  Long  precipAccumulation  \n",
       "0                  1577864700  33.0  65.0                 NaN  \n",
       "1                  1577951220  33.0  65.0                 NaN  \n",
       "2                  1578038340  33.0  65.0                 NaN  \n",
       "3                  1578124260  33.0  65.0                 NaN  \n",
       "4                  1578222000  33.0  65.0                 NaN  \n",
       "\n",
       "[5 rows x 45 columns]"
      ]
     },
     "execution_count": 4,
     "metadata": {},
     "output_type": "execute_result"
    }
   ],
   "source": [
    "## read csv file\n",
    "data = pd.read_csv(\"daily_weather_2020.csv\")\n",
    "\n",
    "## show the head\n",
    "data.head()"
   ]
  },
  {
   "cell_type": "code",
   "execution_count": 5,
   "id": "36b63e99",
   "metadata": {
    "ExecuteTime": {
     "end_time": "2023-07-19T12:37:08.800014Z",
     "start_time": "2023-07-19T12:37:08.793029Z"
    }
   },
   "outputs": [],
   "source": [
    "## Select Important Features \n",
    "df=data[['temperatureHigh','humidity','uvIndex']]"
   ]
  },
  {
   "cell_type": "code",
   "execution_count": 6,
   "id": "5f383c0a",
   "metadata": {
    "ExecuteTime": {
     "end_time": "2023-07-19T12:37:09.311022Z",
     "start_time": "2023-07-19T12:37:09.284125Z"
    }
   },
   "outputs": [
    {
     "name": "stdout",
     "output_type": "stream",
     "text": [
      "<class 'pandas.core.frame.DataFrame'>\n",
      "RangeIndex: 30688 entries, 0 to 30687\n",
      "Data columns (total 3 columns):\n",
      " #   Column           Non-Null Count  Dtype  \n",
      "---  ------           --------------  -----  \n",
      " 0   temperatureHigh  30688 non-null  float64\n",
      " 1   humidity         30688 non-null  float64\n",
      " 2   uvIndex          30688 non-null  int64  \n",
      "dtypes: float64(2), int64(1)\n",
      "memory usage: 719.4 KB\n"
     ]
    }
   ],
   "source": [
    "## check info (nulls and data types)\n",
    "df.info()"
   ]
  },
  {
   "cell_type": "code",
   "execution_count": 7,
   "id": "9ed33cf5",
   "metadata": {
    "ExecuteTime": {
     "end_time": "2023-07-19T12:37:09.388675Z",
     "start_time": "2023-07-19T12:37:09.342797Z"
    }
   },
   "outputs": [
    {
     "data": {
      "text/html": [
       "<div>\n",
       "<style scoped>\n",
       "    .dataframe tbody tr th:only-of-type {\n",
       "        vertical-align: middle;\n",
       "    }\n",
       "\n",
       "    .dataframe tbody tr th {\n",
       "        vertical-align: top;\n",
       "    }\n",
       "\n",
       "    .dataframe thead th {\n",
       "        text-align: right;\n",
       "    }\n",
       "</style>\n",
       "<table border=\"1\" class=\"dataframe\">\n",
       "  <thead>\n",
       "    <tr style=\"text-align: right;\">\n",
       "      <th></th>\n",
       "      <th>temperatureHigh</th>\n",
       "      <th>humidity</th>\n",
       "      <th>uvIndex</th>\n",
       "    </tr>\n",
       "  </thead>\n",
       "  <tbody>\n",
       "    <tr>\n",
       "      <th>count</th>\n",
       "      <td>30688.00</td>\n",
       "      <td>30688.00</td>\n",
       "      <td>30688.00</td>\n",
       "    </tr>\n",
       "    <tr>\n",
       "      <th>mean</th>\n",
       "      <td>63.82</td>\n",
       "      <td>0.69</td>\n",
       "      <td>5.50</td>\n",
       "    </tr>\n",
       "    <tr>\n",
       "      <th>std</th>\n",
       "      <td>22.64</td>\n",
       "      <td>0.20</td>\n",
       "      <td>3.35</td>\n",
       "    </tr>\n",
       "    <tr>\n",
       "      <th>min</th>\n",
       "      <td>-64.30</td>\n",
       "      <td>0.02</td>\n",
       "      <td>0.00</td>\n",
       "    </tr>\n",
       "    <tr>\n",
       "      <th>25%</th>\n",
       "      <td>47.40</td>\n",
       "      <td>0.59</td>\n",
       "      <td>3.00</td>\n",
       "    </tr>\n",
       "    <tr>\n",
       "      <th>50%</th>\n",
       "      <td>65.52</td>\n",
       "      <td>0.73</td>\n",
       "      <td>5.00</td>\n",
       "    </tr>\n",
       "    <tr>\n",
       "      <th>75%</th>\n",
       "      <td>82.75</td>\n",
       "      <td>0.82</td>\n",
       "      <td>8.00</td>\n",
       "    </tr>\n",
       "    <tr>\n",
       "      <th>max</th>\n",
       "      <td>111.61</td>\n",
       "      <td>1.00</td>\n",
       "      <td>16.00</td>\n",
       "    </tr>\n",
       "  </tbody>\n",
       "</table>\n",
       "</div>"
      ],
      "text/plain": [
       "       temperatureHigh  humidity   uvIndex\n",
       "count         30688.00  30688.00  30688.00\n",
       "mean             63.82      0.69      5.50\n",
       "std              22.64      0.20      3.35\n",
       "min             -64.30      0.02      0.00\n",
       "25%              47.40      0.59      3.00\n",
       "50%              65.52      0.73      5.00\n",
       "75%              82.75      0.82      8.00\n",
       "max             111.61      1.00     16.00"
      ]
     },
     "execution_count": 7,
     "metadata": {},
     "output_type": "execute_result"
    }
   ],
   "source": [
    "## some statistics\n",
    "df.describe().round(2)"
   ]
  },
  {
   "cell_type": "code",
   "execution_count": 8,
   "id": "b6eca774",
   "metadata": {
    "ExecuteTime": {
     "end_time": "2023-07-19T12:37:09.420588Z",
     "start_time": "2023-07-19T12:37:09.411654Z"
    }
   },
   "outputs": [
    {
     "data": {
      "text/plain": [
       "temperatureHigh    0\n",
       "humidity           0\n",
       "uvIndex            0\n",
       "dtype: int64"
      ]
     },
     "execution_count": 8,
     "metadata": {},
     "output_type": "execute_result"
    }
   ],
   "source": [
    "## check nulls\n",
    "df.isna().sum()"
   ]
  },
  {
   "cell_type": "markdown",
   "id": "9634d385",
   "metadata": {},
   "source": [
    "### Exploratory Data Analysis (EDA)"
   ]
  },
  {
   "cell_type": "code",
   "execution_count": 9,
   "id": "cbaf28b1",
   "metadata": {
    "ExecuteTime": {
     "end_time": "2023-07-19T12:37:09.904803Z",
     "start_time": "2023-07-19T12:37:09.524981Z"
    },
    "scrolled": false
   },
   "outputs": [
    {
     "name": "stdout",
     "output_type": "stream",
     "text": [
      "categories of (uvIndex) --- \n",
      " 6     3429\n",
      "2     3405\n",
      "3     3350\n",
      "4     3156\n",
      "5     2808\n",
      "1     2739\n",
      "7     2551\n",
      "8     2144\n",
      "9     1868\n",
      "10    1603\n",
      "11    1245\n",
      "12     898\n",
      "0      776\n",
      "13     535\n",
      "14     153\n",
      "15      27\n",
      "16       1\n",
      "Name: uvIndex, dtype: int64\n"
     ]
    },
    {
     "data": {
      "image/png": "[encoded data removed]",
      "text/plain": [
       "<Figure size 1080x576 with 1 Axes>"
      ]
     },
     "metadata": {
      "needs_background": "light"
     },
     "output_type": "display_data"
    }
   ],
   "source": [
    "## Check the Distribution of (uvIndex) Feature in Dataset\n",
    "uv_values = df['uvIndex'].value_counts()\n",
    "print('categories of (uvIndex) --- \\n', uv_values)\n",
    "\n",
    "\n",
    "\n",
    "\n",
    "## plotting\n",
    "plt.figure(figsize=(15,8))\n",
    "sns.countplot(data=df , x = 'uvIndex' , order= uv_values.index)\n",
    "plt.title(\"CountPlot of (uvIndex) Feature in Dataset\", fontsize=14, c='k')\n",
    "plt.xlabel('uvIndex', fontsize=14, c='k')\n",
    "plt.ylabel('Counts', fontsize=14, c='k')\n",
    "plt.show()"
   ]
  },
  {
   "cell_type": "code",
   "execution_count": 10,
   "id": "2a105e15",
   "metadata": {
    "ExecuteTime": {
     "end_time": "2023-07-19T12:37:10.690422Z",
     "start_time": "2023-07-19T12:37:09.910054Z"
    }
   },
   "outputs": [
    {
     "data": {
      "image/png": "[encoded data removed]",
      "text/plain": [
       "<Figure size 1440x720 with 4 Axes>"
      ]
     },
     "metadata": {
      "needs_background": "light"
     },
     "output_type": "display_data"
    }
   ],
   "source": [
    "## Histogram for numerical values\n",
    "df.hist(bins = 50 ,figsize=(20,10))\n",
    "plt.show()"
   ]
  },
  {
   "cell_type": "code",
   "execution_count": 11,
   "id": "33048bc5",
   "metadata": {
    "ExecuteTime": {
     "end_time": "2023-07-19T12:37:10.830498Z",
     "start_time": "2023-07-19T12:37:10.692432Z"
    }
   },
   "outputs": [
    {
     "data": {
      "image/png": "[encoded data removed]",
      "text/plain": [
       "<Figure size 864x432 with 1 Axes>"
      ]
     },
     "metadata": {
      "needs_background": "light"
     },
     "output_type": "display_data"
    }
   ],
   "source": [
    "## identify outliers by boxplot\n",
    "plt.figure(figsize=(12,6))\n",
    "sns.boxplot(df['temperatureHigh'])\n",
    "plt.show()"
   ]
  },
  {
   "cell_type": "code",
   "execution_count": 12,
   "id": "885fbe6d",
   "metadata": {
    "ExecuteTime": {
     "end_time": "2023-07-19T12:37:11.205487Z",
     "start_time": "2023-07-19T12:37:11.049283Z"
    }
   },
   "outputs": [
    {
     "data": {
      "image/png": "[encoded data removed]",
      "text/plain": [
       "<Figure size 864x432 with 1 Axes>"
      ]
     },
     "metadata": {
      "needs_background": "light"
     },
     "output_type": "display_data"
    }
   ],
   "source": [
    "## identify outliers by boxplot\n",
    "plt.figure(figsize=(12,6))\n",
    "sns.boxplot(df['humidity'])\n",
    "plt.show()"
   ]
  },
  {
   "cell_type": "code",
   "execution_count": 13,
   "id": "1ba86ca6",
   "metadata": {
    "ExecuteTime": {
     "end_time": "2023-07-19T12:37:11.359589Z",
     "start_time": "2023-07-19T12:37:11.209478Z"
    }
   },
   "outputs": [
    {
     "data": {
      "image/png": "[encoded data removed]",
      "text/plain": [
       "<Figure size 864x432 with 1 Axes>"
      ]
     },
     "metadata": {
      "needs_background": "light"
     },
     "output_type": "display_data"
    }
   ],
   "source": [
    "## identify outliers by boxplot\n",
    "plt.figure(figsize=(12,6))\n",
    "sns.boxplot(df['uvIndex'])\n",
    "plt.show()"
   ]
  },
  {
   "cell_type": "code",
   "execution_count": 14,
   "id": "4555b211",
   "metadata": {
    "ExecuteTime": {
     "end_time": "2023-07-19T12:37:11.733297Z",
     "start_time": "2023-07-19T12:37:11.361473Z"
    }
   },
   "outputs": [
    {
     "data": {
      "image/png": "[encoded data removed]",
      "text/plain": [
       "<Figure size 864x432 with 2 Axes>"
      ]
     },
     "metadata": {
      "needs_background": "light"
     },
     "output_type": "display_data"
    }
   ],
   "source": [
    "## check correlation between features\n",
    "plt.figure(figsize=(12,6))\n",
    "sns.heatmap(df.corr(),annot=True,cmap ='Blues')\n",
    "plt.show()"
   ]
  },
  {
   "cell_type": "markdown",
   "id": "0fa20e6e",
   "metadata": {},
   "source": [
    "### Preprocessing "
   ]
  },
  {
   "cell_type": "code",
   "execution_count": 15,
   "id": "ef021b8d",
   "metadata": {
    "ExecuteTime": {
     "end_time": "2023-07-19T12:37:11.764154Z",
     "start_time": "2023-07-19T12:37:11.737553Z"
    }
   },
   "outputs": [
    {
     "data": {
      "text/html": [
       "<div>\n",
       "<style scoped>\n",
       "    .dataframe tbody tr th:only-of-type {\n",
       "        vertical-align: middle;\n",
       "    }\n",
       "\n",
       "    .dataframe tbody tr th {\n",
       "        vertical-align: top;\n",
       "    }\n",
       "\n",
       "    .dataframe thead th {\n",
       "        text-align: right;\n",
       "    }\n",
       "</style>\n",
       "<table border=\"1\" class=\"dataframe\">\n",
       "  <thead>\n",
       "    <tr style=\"text-align: right;\">\n",
       "      <th></th>\n",
       "      <th>temperatureHigh</th>\n",
       "      <th>humidity</th>\n",
       "      <th>uvIndex</th>\n",
       "    </tr>\n",
       "  </thead>\n",
       "  <tbody>\n",
       "    <tr>\n",
       "      <th>0</th>\n",
       "      <td>9.088889</td>\n",
       "      <td>0.60</td>\n",
       "      <td>2</td>\n",
       "    </tr>\n",
       "    <tr>\n",
       "      <th>1</th>\n",
       "      <td>4.677778</td>\n",
       "      <td>0.90</td>\n",
       "      <td>2</td>\n",
       "    </tr>\n",
       "    <tr>\n",
       "      <th>2</th>\n",
       "      <td>8.072222</td>\n",
       "      <td>0.76</td>\n",
       "      <td>3</td>\n",
       "    </tr>\n",
       "    <tr>\n",
       "      <th>3</th>\n",
       "      <td>7.650000</td>\n",
       "      <td>0.69</td>\n",
       "      <td>3</td>\n",
       "    </tr>\n",
       "    <tr>\n",
       "      <th>4</th>\n",
       "      <td>4.911111</td>\n",
       "      <td>0.88</td>\n",
       "      <td>2</td>\n",
       "    </tr>\n",
       "  </tbody>\n",
       "</table>\n",
       "</div>"
      ],
      "text/plain": [
       "   temperatureHigh  humidity  uvIndex\n",
       "0         9.088889      0.60        2\n",
       "1         4.677778      0.90        2\n",
       "2         8.072222      0.76        3\n",
       "3         7.650000      0.69        3\n",
       "4         4.911111      0.88        2"
      ]
     },
     "execution_count": 15,
     "metadata": {},
     "output_type": "execute_result"
    }
   ],
   "source": [
    "## convert temp from F to C\n",
    "df[\"temperatureHigh\"] = (df[\"temperatureHigh\"] - 32) * 5/9\n",
    "\n",
    "## show the head\n",
    "df.head()"
   ]
  },
  {
   "cell_type": "code",
   "execution_count": 16,
   "id": "d462cda0",
   "metadata": {
    "ExecuteTime": {
     "end_time": "2023-07-19T12:37:11.810839Z",
     "start_time": "2023-07-19T12:37:11.766117Z"
    }
   },
   "outputs": [
    {
     "data": {
      "text/html": [
       "<div>\n",
       "<style scoped>\n",
       "    .dataframe tbody tr th:only-of-type {\n",
       "        vertical-align: middle;\n",
       "    }\n",
       "\n",
       "    .dataframe tbody tr th {\n",
       "        vertical-align: top;\n",
       "    }\n",
       "\n",
       "    .dataframe thead th {\n",
       "        text-align: right;\n",
       "    }\n",
       "</style>\n",
       "<table border=\"1\" class=\"dataframe\">\n",
       "  <thead>\n",
       "    <tr style=\"text-align: right;\">\n",
       "      <th></th>\n",
       "      <th>temperatureHigh</th>\n",
       "      <th>humidity</th>\n",
       "      <th>uvIndex</th>\n",
       "    </tr>\n",
       "  </thead>\n",
       "  <tbody>\n",
       "    <tr>\n",
       "      <th>count</th>\n",
       "      <td>30688.000000</td>\n",
       "      <td>30688.000000</td>\n",
       "      <td>30688.000000</td>\n",
       "    </tr>\n",
       "    <tr>\n",
       "      <th>mean</th>\n",
       "      <td>17.675416</td>\n",
       "      <td>0.685733</td>\n",
       "      <td>5.496513</td>\n",
       "    </tr>\n",
       "    <tr>\n",
       "      <th>std</th>\n",
       "      <td>12.576397</td>\n",
       "      <td>0.197707</td>\n",
       "      <td>3.348262</td>\n",
       "    </tr>\n",
       "    <tr>\n",
       "      <th>min</th>\n",
       "      <td>-53.500000</td>\n",
       "      <td>0.020000</td>\n",
       "      <td>0.000000</td>\n",
       "    </tr>\n",
       "    <tr>\n",
       "      <th>25%</th>\n",
       "      <td>8.555556</td>\n",
       "      <td>0.590000</td>\n",
       "      <td>3.000000</td>\n",
       "    </tr>\n",
       "    <tr>\n",
       "      <th>50%</th>\n",
       "      <td>18.622222</td>\n",
       "      <td>0.730000</td>\n",
       "      <td>5.000000</td>\n",
       "    </tr>\n",
       "    <tr>\n",
       "      <th>75%</th>\n",
       "      <td>28.194444</td>\n",
       "      <td>0.820000</td>\n",
       "      <td>8.000000</td>\n",
       "    </tr>\n",
       "    <tr>\n",
       "      <th>max</th>\n",
       "      <td>44.227778</td>\n",
       "      <td>1.000000</td>\n",
       "      <td>16.000000</td>\n",
       "    </tr>\n",
       "  </tbody>\n",
       "</table>\n",
       "</div>"
      ],
      "text/plain": [
       "       temperatureHigh      humidity       uvIndex\n",
       "count     30688.000000  30688.000000  30688.000000\n",
       "mean         17.675416      0.685733      5.496513\n",
       "std          12.576397      0.197707      3.348262\n",
       "min         -53.500000      0.020000      0.000000\n",
       "25%           8.555556      0.590000      3.000000\n",
       "50%          18.622222      0.730000      5.000000\n",
       "75%          28.194444      0.820000      8.000000\n",
       "max          44.227778      1.000000     16.000000"
      ]
     },
     "execution_count": 16,
     "metadata": {},
     "output_type": "execute_result"
    }
   ],
   "source": [
    "## some statistics\n",
    "df.describe()"
   ]
  },
  {
   "cell_type": "code",
   "execution_count": 17,
   "id": "2283079b",
   "metadata": {
    "ExecuteTime": {
     "end_time": "2023-07-19T12:37:12.792242Z",
     "start_time": "2023-07-19T12:37:12.756340Z"
    }
   },
   "outputs": [
    {
     "data": {
      "text/html": [
       "<div>\n",
       "<style scoped>\n",
       "    .dataframe tbody tr th:only-of-type {\n",
       "        vertical-align: middle;\n",
       "    }\n",
       "\n",
       "    .dataframe tbody tr th {\n",
       "        vertical-align: top;\n",
       "    }\n",
       "\n",
       "    .dataframe thead th {\n",
       "        text-align: right;\n",
       "    }\n",
       "</style>\n",
       "<table border=\"1\" class=\"dataframe\">\n",
       "  <thead>\n",
       "    <tr style=\"text-align: right;\">\n",
       "      <th></th>\n",
       "      <th>temperatureHigh</th>\n",
       "      <th>humidity</th>\n",
       "      <th>uvIndex</th>\n",
       "    </tr>\n",
       "  </thead>\n",
       "  <tbody>\n",
       "    <tr>\n",
       "      <th>0</th>\n",
       "      <td>9</td>\n",
       "      <td>0.60</td>\n",
       "      <td>2</td>\n",
       "    </tr>\n",
       "    <tr>\n",
       "      <th>1</th>\n",
       "      <td>4</td>\n",
       "      <td>0.90</td>\n",
       "      <td>2</td>\n",
       "    </tr>\n",
       "    <tr>\n",
       "      <th>2</th>\n",
       "      <td>8</td>\n",
       "      <td>0.76</td>\n",
       "      <td>3</td>\n",
       "    </tr>\n",
       "    <tr>\n",
       "      <th>3</th>\n",
       "      <td>7</td>\n",
       "      <td>0.69</td>\n",
       "      <td>3</td>\n",
       "    </tr>\n",
       "    <tr>\n",
       "      <th>4</th>\n",
       "      <td>4</td>\n",
       "      <td>0.88</td>\n",
       "      <td>2</td>\n",
       "    </tr>\n",
       "  </tbody>\n",
       "</table>\n",
       "</div>"
      ],
      "text/plain": [
       "   temperatureHigh  humidity  uvIndex\n",
       "0                9      0.60        2\n",
       "1                4      0.90        2\n",
       "2                8      0.76        3\n",
       "3                7      0.69        3\n",
       "4                4      0.88        2"
      ]
     },
     "execution_count": 17,
     "metadata": {},
     "output_type": "execute_result"
    }
   ],
   "source": [
    "## convert data type from float to int\n",
    "df['temperatureHigh'] = df['temperatureHigh'].apply(int)\n",
    "\n",
    "df.head()"
   ]
  },
  {
   "cell_type": "code",
   "execution_count": 18,
   "id": "69f3c4a0",
   "metadata": {
    "ExecuteTime": {
     "end_time": "2023-07-19T12:37:13.257769Z",
     "start_time": "2023-07-19T12:37:13.245844Z"
    }
   },
   "outputs": [],
   "source": [
    "## remove outliers in temp\n",
    "rows_to_drop = df['temperatureHigh'] < 0\n",
    "df = df[~rows_to_drop]"
   ]
  },
  {
   "cell_type": "code",
   "execution_count": 19,
   "id": "12dbe367",
   "metadata": {
    "ExecuteTime": {
     "end_time": "2023-07-19T12:37:13.320606Z",
     "start_time": "2023-07-19T12:37:13.307600Z"
    }
   },
   "outputs": [
    {
     "data": {
      "text/plain": [
       "(28575, 3)"
      ]
     },
     "execution_count": 19,
     "metadata": {},
     "output_type": "execute_result"
    }
   ],
   "source": [
    "## check shape\n",
    "df.shape"
   ]
  },
  {
   "cell_type": "code",
   "execution_count": 20,
   "id": "6287f0b9",
   "metadata": {
    "ExecuteTime": {
     "end_time": "2023-07-19T12:37:13.382015Z",
     "start_time": "2023-07-19T12:37:13.363763Z"
    }
   },
   "outputs": [],
   "source": [
    "## remove outliers in uvIndex\n",
    "rows_to_drop_uvindex = df['uvIndex'] > 12\n",
    "df = df[~rows_to_drop_uvindex]"
   ]
  },
  {
   "cell_type": "code",
   "execution_count": 21,
   "id": "380d6b76",
   "metadata": {
    "ExecuteTime": {
     "end_time": "2023-07-19T12:37:13.444985Z",
     "start_time": "2023-07-19T12:37:13.429070Z"
    }
   },
   "outputs": [
    {
     "data": {
      "text/plain": [
       "(27859, 3)"
      ]
     },
     "execution_count": 21,
     "metadata": {},
     "output_type": "execute_result"
    }
   ],
   "source": [
    "## check shape\n",
    "df.shape"
   ]
  },
  {
   "cell_type": "code",
   "execution_count": 22,
   "id": "ff1cda11",
   "metadata": {
    "ExecuteTime": {
     "end_time": "2023-07-19T12:37:13.521608Z",
     "start_time": "2023-07-19T12:37:13.482885Z"
    }
   },
   "outputs": [
    {
     "data": {
      "text/html": [
       "<div>\n",
       "<style scoped>\n",
       "    .dataframe tbody tr th:only-of-type {\n",
       "        vertical-align: middle;\n",
       "    }\n",
       "\n",
       "    .dataframe tbody tr th {\n",
       "        vertical-align: top;\n",
       "    }\n",
       "\n",
       "    .dataframe thead th {\n",
       "        text-align: right;\n",
       "    }\n",
       "</style>\n",
       "<table border=\"1\" class=\"dataframe\">\n",
       "  <thead>\n",
       "    <tr style=\"text-align: right;\">\n",
       "      <th></th>\n",
       "      <th>temperatureHigh</th>\n",
       "      <th>humidity</th>\n",
       "      <th>uvIndex</th>\n",
       "    </tr>\n",
       "  </thead>\n",
       "  <tbody>\n",
       "    <tr>\n",
       "      <th>count</th>\n",
       "      <td>27859.000000</td>\n",
       "      <td>27859.000000</td>\n",
       "      <td>27859.000000</td>\n",
       "    </tr>\n",
       "    <tr>\n",
       "      <th>mean</th>\n",
       "      <td>18.764636</td>\n",
       "      <td>0.688292</td>\n",
       "      <td>5.588427</td>\n",
       "    </tr>\n",
       "    <tr>\n",
       "      <th>std</th>\n",
       "      <td>10.476280</td>\n",
       "      <td>0.199517</td>\n",
       "      <td>3.082137</td>\n",
       "    </tr>\n",
       "    <tr>\n",
       "      <th>min</th>\n",
       "      <td>0.000000</td>\n",
       "      <td>0.020000</td>\n",
       "      <td>0.000000</td>\n",
       "    </tr>\n",
       "    <tr>\n",
       "      <th>25%</th>\n",
       "      <td>10.000000</td>\n",
       "      <td>0.590000</td>\n",
       "      <td>3.000000</td>\n",
       "    </tr>\n",
       "    <tr>\n",
       "      <th>50%</th>\n",
       "      <td>19.000000</td>\n",
       "      <td>0.740000</td>\n",
       "      <td>5.000000</td>\n",
       "    </tr>\n",
       "    <tr>\n",
       "      <th>75%</th>\n",
       "      <td>28.000000</td>\n",
       "      <td>0.830000</td>\n",
       "      <td>8.000000</td>\n",
       "    </tr>\n",
       "    <tr>\n",
       "      <th>max</th>\n",
       "      <td>44.000000</td>\n",
       "      <td>1.000000</td>\n",
       "      <td>12.000000</td>\n",
       "    </tr>\n",
       "  </tbody>\n",
       "</table>\n",
       "</div>"
      ],
      "text/plain": [
       "       temperatureHigh      humidity       uvIndex\n",
       "count     27859.000000  27859.000000  27859.000000\n",
       "mean         18.764636      0.688292      5.588427\n",
       "std          10.476280      0.199517      3.082137\n",
       "min           0.000000      0.020000      0.000000\n",
       "25%          10.000000      0.590000      3.000000\n",
       "50%          19.000000      0.740000      5.000000\n",
       "75%          28.000000      0.830000      8.000000\n",
       "max          44.000000      1.000000     12.000000"
      ]
     },
     "execution_count": 22,
     "metadata": {},
     "output_type": "execute_result"
    }
   ],
   "source": [
    "## check statistics\n",
    "df.describe()"
   ]
  },
  {
   "cell_type": "markdown",
   "id": "8af8812b",
   "metadata": {},
   "source": [
    "### choose the best number of K"
   ]
  },
  {
   "cell_type": "code",
   "execution_count": 23,
   "id": "460cdaa6",
   "metadata": {
    "ExecuteTime": {
     "end_time": "2023-07-19T12:37:19.217143Z",
     "start_time": "2023-07-19T12:37:15.259234Z"
    }
   },
   "outputs": [
    {
     "data": {
      "image/png": "[encoded data removed]",
      "text/plain": [
       "<Figure size 864x432 with 1 Axes>"
      ]
     },
     "metadata": {
      "needs_background": "light"
     },
     "output_type": "display_data"
    }
   ],
   "source": [
    "## Try different K and choose according to Elbow Method\n",
    "k_with_inertia =[]\n",
    "for i in range(1,10 ):\n",
    "    km= KMeans(n_clusters=i)\n",
    "    km.fit(df)\n",
    "    k_with_inertia.append(km.inertia_)\n",
    "    \n",
    "## Plotting each K with the opposite Inertia\n",
    "plt.figure(figsize=(12,6))\n",
    "plt.plot(range(1,10),k_with_inertia)\n",
    "plt.title('K vs. Inertia', fontsize=14)\n",
    "plt.xlabel('K', fontsize=14)\n",
    "plt.ylabel('Inertia', fontsize=14)\n",
    "plt.show()"
   ]
  },
  {
   "cell_type": "markdown",
   "id": "e43cc49b",
   "metadata": {},
   "source": [
    "### Building Models"
   ]
  },
  {
   "cell_type": "markdown",
   "id": "c784be3d",
   "metadata": {},
   "source": [
    "`K means`"
   ]
  },
  {
   "cell_type": "code",
   "execution_count": 24,
   "id": "a2a1a721",
   "metadata": {
    "ExecuteTime": {
     "end_time": "2023-07-19T12:37:19.593786Z",
     "start_time": "2023-07-19T12:37:19.219108Z"
    }
   },
   "outputs": [
    {
     "data": {
      "text/plain": [
       "array([1, 3, 1, ..., 2, 4, 2])"
      ]
     },
     "execution_count": 24,
     "metadata": {},
     "output_type": "execute_result"
    }
   ],
   "source": [
    "km= KMeans(n_clusters=5)\n",
    "y_predict = km.fit_predict(df)\n",
    "y_predict"
   ]
  },
  {
   "cell_type": "code",
   "execution_count": 25,
   "id": "8d64bf4a",
   "metadata": {
    "ExecuteTime": {
     "end_time": "2023-07-19T12:37:19.624647Z",
     "start_time": "2023-07-19T12:37:19.596641Z"
    },
    "scrolled": false
   },
   "outputs": [
    {
     "data": {
      "text/html": [
       "<div>\n",
       "<style scoped>\n",
       "    .dataframe tbody tr th:only-of-type {\n",
       "        vertical-align: middle;\n",
       "    }\n",
       "\n",
       "    .dataframe tbody tr th {\n",
       "        vertical-align: top;\n",
       "    }\n",
       "\n",
       "    .dataframe thead th {\n",
       "        text-align: right;\n",
       "    }\n",
       "</style>\n",
       "<table border=\"1\" class=\"dataframe\">\n",
       "  <thead>\n",
       "    <tr style=\"text-align: right;\">\n",
       "      <th></th>\n",
       "      <th>temperatureHigh</th>\n",
       "      <th>humidity</th>\n",
       "      <th>uvIndex</th>\n",
       "      <th>cluster</th>\n",
       "    </tr>\n",
       "  </thead>\n",
       "  <tbody>\n",
       "    <tr>\n",
       "      <th>0</th>\n",
       "      <td>9</td>\n",
       "      <td>0.60</td>\n",
       "      <td>2</td>\n",
       "      <td>1</td>\n",
       "    </tr>\n",
       "    <tr>\n",
       "      <th>1</th>\n",
       "      <td>4</td>\n",
       "      <td>0.90</td>\n",
       "      <td>2</td>\n",
       "      <td>3</td>\n",
       "    </tr>\n",
       "    <tr>\n",
       "      <th>2</th>\n",
       "      <td>8</td>\n",
       "      <td>0.76</td>\n",
       "      <td>3</td>\n",
       "      <td>1</td>\n",
       "    </tr>\n",
       "    <tr>\n",
       "      <th>3</th>\n",
       "      <td>7</td>\n",
       "      <td>0.69</td>\n",
       "      <td>3</td>\n",
       "      <td>3</td>\n",
       "    </tr>\n",
       "    <tr>\n",
       "      <th>4</th>\n",
       "      <td>4</td>\n",
       "      <td>0.88</td>\n",
       "      <td>2</td>\n",
       "      <td>3</td>\n",
       "    </tr>\n",
       "  </tbody>\n",
       "</table>\n",
       "</div>"
      ],
      "text/plain": [
       "   temperatureHigh  humidity  uvIndex  cluster\n",
       "0                9      0.60        2        1\n",
       "1                4      0.90        2        3\n",
       "2                8      0.76        3        1\n",
       "3                7      0.69        3        3\n",
       "4                4      0.88        2        3"
      ]
     },
     "execution_count": 25,
     "metadata": {},
     "output_type": "execute_result"
    }
   ],
   "source": [
    "df['cluster']= y_predict\n",
    "df.head()"
   ]
  },
  {
   "cell_type": "code",
   "execution_count": 26,
   "id": "e98c799e",
   "metadata": {
    "ExecuteTime": {
     "end_time": "2023-07-19T12:37:19.827676Z",
     "start_time": "2023-07-19T12:37:19.628705Z"
    }
   },
   "outputs": [
    {
     "name": "stdout",
     "output_type": "stream",
     "text": [
      "categories of (clusters) --- \n",
      " 2    7975\n",
      "1    6064\n",
      "4    5445\n",
      "3    5149\n",
      "0    3226\n",
      "Name: cluster, dtype: int64\n"
     ]
    },
    {
     "data": {
      "image/png": "[encoded data removed]",
      "text/plain": [
       "<Figure size 720x432 with 1 Axes>"
      ]
     },
     "metadata": {
      "needs_background": "light"
     },
     "output_type": "display_data"
    }
   ],
   "source": [
    "## showing the Distribution of clusters\n",
    "clusters_val = df.cluster.value_counts()\n",
    "print('categories of (clusters) --- \\n', clusters_val)\n",
    "\n",
    "## plotting it\n",
    "plt.figure(figsize=(10,6))\n",
    "sns.countplot(df.cluster,order= clusters_val.index,)\n",
    "plt.title('Countplot to clusters' , fontsize = 14 )\n",
    "plt.xlabel('Cluster', fontsize = 12)\n",
    "plt.ylabel('Count', fontsize = 12)\n",
    "plt.show()\n",
    "\n",
    "\n"
   ]
  },
  {
   "cell_type": "code",
   "execution_count": 27,
   "id": "f540a866",
   "metadata": {
    "ExecuteTime": {
     "end_time": "2023-07-19T12:37:19.873838Z",
     "start_time": "2023-07-19T12:37:19.831566Z"
    }
   },
   "outputs": [
    {
     "data": {
      "text/html": [
       "<div>\n",
       "<style scoped>\n",
       "    .dataframe tbody tr th:only-of-type {\n",
       "        vertical-align: middle;\n",
       "    }\n",
       "\n",
       "    .dataframe tbody tr th {\n",
       "        vertical-align: top;\n",
       "    }\n",
       "\n",
       "    .dataframe thead th {\n",
       "        text-align: right;\n",
       "    }\n",
       "</style>\n",
       "<table border=\"1\" class=\"dataframe\">\n",
       "  <thead>\n",
       "    <tr style=\"text-align: right;\">\n",
       "      <th></th>\n",
       "      <th>temperatureHigh</th>\n",
       "      <th>humidity</th>\n",
       "      <th>uvIndex</th>\n",
       "      <th>cluster</th>\n",
       "    </tr>\n",
       "  </thead>\n",
       "  <tbody>\n",
       "    <tr>\n",
       "      <th>count</th>\n",
       "      <td>3226.000000</td>\n",
       "      <td>3226.000000</td>\n",
       "      <td>3226.000000</td>\n",
       "      <td>3226.0</td>\n",
       "    </tr>\n",
       "    <tr>\n",
       "      <th>mean</th>\n",
       "      <td>34.730316</td>\n",
       "      <td>0.514423</td>\n",
       "      <td>9.095164</td>\n",
       "      <td>0.0</td>\n",
       "    </tr>\n",
       "    <tr>\n",
       "      <th>std</th>\n",
       "      <td>2.685440</td>\n",
       "      <td>0.262057</td>\n",
       "      <td>2.037005</td>\n",
       "      <td>0.0</td>\n",
       "    </tr>\n",
       "    <tr>\n",
       "      <th>min</th>\n",
       "      <td>31.000000</td>\n",
       "      <td>0.020000</td>\n",
       "      <td>4.000000</td>\n",
       "      <td>0.0</td>\n",
       "    </tr>\n",
       "    <tr>\n",
       "      <th>25%</th>\n",
       "      <td>33.000000</td>\n",
       "      <td>0.270000</td>\n",
       "      <td>7.000000</td>\n",
       "      <td>0.0</td>\n",
       "    </tr>\n",
       "    <tr>\n",
       "      <th>50%</th>\n",
       "      <td>34.000000</td>\n",
       "      <td>0.585000</td>\n",
       "      <td>9.000000</td>\n",
       "      <td>0.0</td>\n",
       "    </tr>\n",
       "    <tr>\n",
       "      <th>75%</th>\n",
       "      <td>37.000000</td>\n",
       "      <td>0.740000</td>\n",
       "      <td>11.000000</td>\n",
       "      <td>0.0</td>\n",
       "    </tr>\n",
       "    <tr>\n",
       "      <th>max</th>\n",
       "      <td>44.000000</td>\n",
       "      <td>0.970000</td>\n",
       "      <td>12.000000</td>\n",
       "      <td>0.0</td>\n",
       "    </tr>\n",
       "  </tbody>\n",
       "</table>\n",
       "</div>"
      ],
      "text/plain": [
       "       temperatureHigh     humidity      uvIndex  cluster\n",
       "count      3226.000000  3226.000000  3226.000000   3226.0\n",
       "mean         34.730316     0.514423     9.095164      0.0\n",
       "std           2.685440     0.262057     2.037005      0.0\n",
       "min          31.000000     0.020000     4.000000      0.0\n",
       "25%          33.000000     0.270000     7.000000      0.0\n",
       "50%          34.000000     0.585000     9.000000      0.0\n",
       "75%          37.000000     0.740000    11.000000      0.0\n",
       "max          44.000000     0.970000    12.000000      0.0"
      ]
     },
     "execution_count": 27,
     "metadata": {},
     "output_type": "execute_result"
    }
   ],
   "source": [
    "df[df['cluster']==0].describe()"
   ]
  },
  {
   "cell_type": "code",
   "execution_count": 28,
   "id": "1a6efaf4",
   "metadata": {
    "ExecuteTime": {
     "end_time": "2023-07-19T12:37:19.921913Z",
     "start_time": "2023-07-19T12:37:19.875797Z"
    }
   },
   "outputs": [
    {
     "data": {
      "text/html": [
       "<div>\n",
       "<style scoped>\n",
       "    .dataframe tbody tr th:only-of-type {\n",
       "        vertical-align: middle;\n",
       "    }\n",
       "\n",
       "    .dataframe tbody tr th {\n",
       "        vertical-align: top;\n",
       "    }\n",
       "\n",
       "    .dataframe thead th {\n",
       "        text-align: right;\n",
       "    }\n",
       "</style>\n",
       "<table border=\"1\" class=\"dataframe\">\n",
       "  <thead>\n",
       "    <tr style=\"text-align: right;\">\n",
       "      <th></th>\n",
       "      <th>temperatureHigh</th>\n",
       "      <th>humidity</th>\n",
       "      <th>uvIndex</th>\n",
       "      <th>cluster</th>\n",
       "    </tr>\n",
       "  </thead>\n",
       "  <tbody>\n",
       "    <tr>\n",
       "      <th>count</th>\n",
       "      <td>7975.000000</td>\n",
       "      <td>7975.000000</td>\n",
       "      <td>7975.000000</td>\n",
       "      <td>7975.0</td>\n",
       "    </tr>\n",
       "    <tr>\n",
       "      <th>mean</th>\n",
       "      <td>27.321630</td>\n",
       "      <td>0.743900</td>\n",
       "      <td>8.044639</td>\n",
       "      <td>2.0</td>\n",
       "    </tr>\n",
       "    <tr>\n",
       "      <th>std</th>\n",
       "      <td>2.079798</td>\n",
       "      <td>0.174968</td>\n",
       "      <td>1.985087</td>\n",
       "      <td>0.0</td>\n",
       "    </tr>\n",
       "    <tr>\n",
       "      <th>min</th>\n",
       "      <td>22.000000</td>\n",
       "      <td>0.040000</td>\n",
       "      <td>3.000000</td>\n",
       "      <td>2.0</td>\n",
       "    </tr>\n",
       "    <tr>\n",
       "      <th>25%</th>\n",
       "      <td>26.000000</td>\n",
       "      <td>0.710000</td>\n",
       "      <td>6.000000</td>\n",
       "      <td>2.0</td>\n",
       "    </tr>\n",
       "    <tr>\n",
       "      <th>50%</th>\n",
       "      <td>28.000000</td>\n",
       "      <td>0.780000</td>\n",
       "      <td>8.000000</td>\n",
       "      <td>2.0</td>\n",
       "    </tr>\n",
       "    <tr>\n",
       "      <th>75%</th>\n",
       "      <td>29.000000</td>\n",
       "      <td>0.850000</td>\n",
       "      <td>10.000000</td>\n",
       "      <td>2.0</td>\n",
       "    </tr>\n",
       "    <tr>\n",
       "      <th>max</th>\n",
       "      <td>31.000000</td>\n",
       "      <td>1.000000</td>\n",
       "      <td>12.000000</td>\n",
       "      <td>2.0</td>\n",
       "    </tr>\n",
       "  </tbody>\n",
       "</table>\n",
       "</div>"
      ],
      "text/plain": [
       "       temperatureHigh     humidity      uvIndex  cluster\n",
       "count      7975.000000  7975.000000  7975.000000   7975.0\n",
       "mean         27.321630     0.743900     8.044639      2.0\n",
       "std           2.079798     0.174968     1.985087      0.0\n",
       "min          22.000000     0.040000     3.000000      2.0\n",
       "25%          26.000000     0.710000     6.000000      2.0\n",
       "50%          28.000000     0.780000     8.000000      2.0\n",
       "75%          29.000000     0.850000    10.000000      2.0\n",
       "max          31.000000     1.000000    12.000000      2.0"
      ]
     },
     "execution_count": 28,
     "metadata": {},
     "output_type": "execute_result"
    }
   ],
   "source": [
    "df[df['cluster']==2].describe()"
   ]
  },
  {
   "cell_type": "code",
   "execution_count": 29,
   "id": "274ff225",
   "metadata": {
    "ExecuteTime": {
     "end_time": "2023-07-19T12:37:19.969765Z",
     "start_time": "2023-07-19T12:37:19.925896Z"
    }
   },
   "outputs": [
    {
     "data": {
      "text/html": [
       "<div>\n",
       "<style scoped>\n",
       "    .dataframe tbody tr th:only-of-type {\n",
       "        vertical-align: middle;\n",
       "    }\n",
       "\n",
       "    .dataframe tbody tr th {\n",
       "        vertical-align: top;\n",
       "    }\n",
       "\n",
       "    .dataframe thead th {\n",
       "        text-align: right;\n",
       "    }\n",
       "</style>\n",
       "<table border=\"1\" class=\"dataframe\">\n",
       "  <thead>\n",
       "    <tr style=\"text-align: right;\">\n",
       "      <th></th>\n",
       "      <th>temperatureHigh</th>\n",
       "      <th>humidity</th>\n",
       "      <th>uvIndex</th>\n",
       "      <th>cluster</th>\n",
       "    </tr>\n",
       "  </thead>\n",
       "  <tbody>\n",
       "    <tr>\n",
       "      <th>count</th>\n",
       "      <td>6064.000000</td>\n",
       "      <td>6064.000000</td>\n",
       "      <td>6064.000000</td>\n",
       "      <td>6064.0</td>\n",
       "    </tr>\n",
       "    <tr>\n",
       "      <th>mean</th>\n",
       "      <td>11.437170</td>\n",
       "      <td>0.687066</td>\n",
       "      <td>3.401550</td>\n",
       "      <td>1.0</td>\n",
       "    </tr>\n",
       "    <tr>\n",
       "      <th>std</th>\n",
       "      <td>2.233598</td>\n",
       "      <td>0.166915</td>\n",
       "      <td>1.583418</td>\n",
       "      <td>0.0</td>\n",
       "    </tr>\n",
       "    <tr>\n",
       "      <th>min</th>\n",
       "      <td>7.000000</td>\n",
       "      <td>0.090000</td>\n",
       "      <td>0.000000</td>\n",
       "      <td>1.0</td>\n",
       "    </tr>\n",
       "    <tr>\n",
       "      <th>25%</th>\n",
       "      <td>10.000000</td>\n",
       "      <td>0.590000</td>\n",
       "      <td>2.000000</td>\n",
       "      <td>1.0</td>\n",
       "    </tr>\n",
       "    <tr>\n",
       "      <th>50%</th>\n",
       "      <td>11.000000</td>\n",
       "      <td>0.710000</td>\n",
       "      <td>3.000000</td>\n",
       "      <td>1.0</td>\n",
       "    </tr>\n",
       "    <tr>\n",
       "      <th>75%</th>\n",
       "      <td>13.000000</td>\n",
       "      <td>0.810000</td>\n",
       "      <td>4.000000</td>\n",
       "      <td>1.0</td>\n",
       "    </tr>\n",
       "    <tr>\n",
       "      <th>max</th>\n",
       "      <td>16.000000</td>\n",
       "      <td>1.000000</td>\n",
       "      <td>12.000000</td>\n",
       "      <td>1.0</td>\n",
       "    </tr>\n",
       "  </tbody>\n",
       "</table>\n",
       "</div>"
      ],
      "text/plain": [
       "       temperatureHigh     humidity      uvIndex  cluster\n",
       "count      6064.000000  6064.000000  6064.000000   6064.0\n",
       "mean         11.437170     0.687066     3.401550      1.0\n",
       "std           2.233598     0.166915     1.583418      0.0\n",
       "min           7.000000     0.090000     0.000000      1.0\n",
       "25%          10.000000     0.590000     2.000000      1.0\n",
       "50%          11.000000     0.710000     3.000000      1.0\n",
       "75%          13.000000     0.810000     4.000000      1.0\n",
       "max          16.000000     1.000000    12.000000      1.0"
      ]
     },
     "execution_count": 29,
     "metadata": {},
     "output_type": "execute_result"
    }
   ],
   "source": [
    "df[df['cluster']==1].describe()"
   ]
  },
  {
   "cell_type": "code",
   "execution_count": 30,
   "id": "e771e06e",
   "metadata": {
    "ExecuteTime": {
     "end_time": "2023-07-19T12:37:20.031870Z",
     "start_time": "2023-07-19T12:37:19.972535Z"
    }
   },
   "outputs": [
    {
     "data": {
      "text/html": [
       "<div>\n",
       "<style scoped>\n",
       "    .dataframe tbody tr th:only-of-type {\n",
       "        vertical-align: middle;\n",
       "    }\n",
       "\n",
       "    .dataframe tbody tr th {\n",
       "        vertical-align: top;\n",
       "    }\n",
       "\n",
       "    .dataframe thead th {\n",
       "        text-align: right;\n",
       "    }\n",
       "</style>\n",
       "<table border=\"1\" class=\"dataframe\">\n",
       "  <thead>\n",
       "    <tr style=\"text-align: right;\">\n",
       "      <th></th>\n",
       "      <th>temperatureHigh</th>\n",
       "      <th>humidity</th>\n",
       "      <th>uvIndex</th>\n",
       "      <th>cluster</th>\n",
       "    </tr>\n",
       "  </thead>\n",
       "  <tbody>\n",
       "    <tr>\n",
       "      <th>count</th>\n",
       "      <td>5445.000000</td>\n",
       "      <td>5445.000000</td>\n",
       "      <td>5445.000000</td>\n",
       "      <td>5445.0</td>\n",
       "    </tr>\n",
       "    <tr>\n",
       "      <th>mean</th>\n",
       "      <td>19.234711</td>\n",
       "      <td>0.670367</td>\n",
       "      <td>5.504316</td>\n",
       "      <td>4.0</td>\n",
       "    </tr>\n",
       "    <tr>\n",
       "      <th>std</th>\n",
       "      <td>2.369133</td>\n",
       "      <td>0.201105</td>\n",
       "      <td>1.887016</td>\n",
       "      <td>0.0</td>\n",
       "    </tr>\n",
       "    <tr>\n",
       "      <th>min</th>\n",
       "      <td>15.000000</td>\n",
       "      <td>0.040000</td>\n",
       "      <td>1.000000</td>\n",
       "      <td>4.0</td>\n",
       "    </tr>\n",
       "    <tr>\n",
       "      <th>25%</th>\n",
       "      <td>17.000000</td>\n",
       "      <td>0.540000</td>\n",
       "      <td>4.000000</td>\n",
       "      <td>4.0</td>\n",
       "    </tr>\n",
       "    <tr>\n",
       "      <th>50%</th>\n",
       "      <td>19.000000</td>\n",
       "      <td>0.680000</td>\n",
       "      <td>5.000000</td>\n",
       "      <td>4.0</td>\n",
       "    </tr>\n",
       "    <tr>\n",
       "      <th>75%</th>\n",
       "      <td>21.000000</td>\n",
       "      <td>0.830000</td>\n",
       "      <td>7.000000</td>\n",
       "      <td>4.0</td>\n",
       "    </tr>\n",
       "    <tr>\n",
       "      <th>max</th>\n",
       "      <td>24.000000</td>\n",
       "      <td>1.000000</td>\n",
       "      <td>12.000000</td>\n",
       "      <td>4.0</td>\n",
       "    </tr>\n",
       "  </tbody>\n",
       "</table>\n",
       "</div>"
      ],
      "text/plain": [
       "       temperatureHigh     humidity      uvIndex  cluster\n",
       "count      5445.000000  5445.000000  5445.000000   5445.0\n",
       "mean         19.234711     0.670367     5.504316      4.0\n",
       "std           2.369133     0.201105     1.887016      0.0\n",
       "min          15.000000     0.040000     1.000000      4.0\n",
       "25%          17.000000     0.540000     4.000000      4.0\n",
       "50%          19.000000     0.680000     5.000000      4.0\n",
       "75%          21.000000     0.830000     7.000000      4.0\n",
       "max          24.000000     1.000000    12.000000      4.0"
      ]
     },
     "execution_count": 30,
     "metadata": {},
     "output_type": "execute_result"
    }
   ],
   "source": [
    "df[df['cluster']==4].describe()"
   ]
  },
  {
   "cell_type": "code",
   "execution_count": 31,
   "id": "32ec0187",
   "metadata": {
    "ExecuteTime": {
     "end_time": "2023-07-19T12:37:20.093340Z",
     "start_time": "2023-07-19T12:37:20.035368Z"
    }
   },
   "outputs": [
    {
     "data": {
      "text/html": [
       "<div>\n",
       "<style scoped>\n",
       "    .dataframe tbody tr th:only-of-type {\n",
       "        vertical-align: middle;\n",
       "    }\n",
       "\n",
       "    .dataframe tbody tr th {\n",
       "        vertical-align: top;\n",
       "    }\n",
       "\n",
       "    .dataframe thead th {\n",
       "        text-align: right;\n",
       "    }\n",
       "</style>\n",
       "<table border=\"1\" class=\"dataframe\">\n",
       "  <thead>\n",
       "    <tr style=\"text-align: right;\">\n",
       "      <th></th>\n",
       "      <th>temperatureHigh</th>\n",
       "      <th>humidity</th>\n",
       "      <th>uvIndex</th>\n",
       "      <th>cluster</th>\n",
       "    </tr>\n",
       "  </thead>\n",
       "  <tbody>\n",
       "    <tr>\n",
       "      <th>count</th>\n",
       "      <td>5149.000000</td>\n",
       "      <td>5149.000000</td>\n",
       "      <td>5149.000000</td>\n",
       "      <td>5149.0</td>\n",
       "    </tr>\n",
       "    <tr>\n",
       "      <th>mean</th>\n",
       "      <td>3.640707</td>\n",
       "      <td>0.731497</td>\n",
       "      <td>2.251505</td>\n",
       "      <td>3.0</td>\n",
       "    </tr>\n",
       "    <tr>\n",
       "      <th>std</th>\n",
       "      <td>2.337546</td>\n",
       "      <td>0.153127</td>\n",
       "      <td>1.467817</td>\n",
       "      <td>0.0</td>\n",
       "    </tr>\n",
       "    <tr>\n",
       "      <th>min</th>\n",
       "      <td>0.000000</td>\n",
       "      <td>0.160000</td>\n",
       "      <td>0.000000</td>\n",
       "      <td>3.0</td>\n",
       "    </tr>\n",
       "    <tr>\n",
       "      <th>25%</th>\n",
       "      <td>2.000000</td>\n",
       "      <td>0.640000</td>\n",
       "      <td>1.000000</td>\n",
       "      <td>3.0</td>\n",
       "    </tr>\n",
       "    <tr>\n",
       "      <th>50%</th>\n",
       "      <td>4.000000</td>\n",
       "      <td>0.770000</td>\n",
       "      <td>2.000000</td>\n",
       "      <td>3.0</td>\n",
       "    </tr>\n",
       "    <tr>\n",
       "      <th>75%</th>\n",
       "      <td>6.000000</td>\n",
       "      <td>0.850000</td>\n",
       "      <td>3.000000</td>\n",
       "      <td>3.0</td>\n",
       "    </tr>\n",
       "    <tr>\n",
       "      <th>max</th>\n",
       "      <td>7.000000</td>\n",
       "      <td>1.000000</td>\n",
       "      <td>12.000000</td>\n",
       "      <td>3.0</td>\n",
       "    </tr>\n",
       "  </tbody>\n",
       "</table>\n",
       "</div>"
      ],
      "text/plain": [
       "       temperatureHigh     humidity      uvIndex  cluster\n",
       "count      5149.000000  5149.000000  5149.000000   5149.0\n",
       "mean          3.640707     0.731497     2.251505      3.0\n",
       "std           2.337546     0.153127     1.467817      0.0\n",
       "min           0.000000     0.160000     0.000000      3.0\n",
       "25%           2.000000     0.640000     1.000000      3.0\n",
       "50%           4.000000     0.770000     2.000000      3.0\n",
       "75%           6.000000     0.850000     3.000000      3.0\n",
       "max           7.000000     1.000000    12.000000      3.0"
      ]
     },
     "execution_count": 31,
     "metadata": {},
     "output_type": "execute_result"
    }
   ],
   "source": [
    "df[df['cluster']==3].describe()"
   ]
  },
  {
   "cell_type": "markdown",
   "id": "51ca1978",
   "metadata": {
    "ExecuteTime": {
     "end_time": "2023-05-20T14:46:47.309041Z",
     "start_time": "2023-05-20T14:44:40.436572Z"
    },
    "scrolled": true
   },
   "source": [
    "`Preprocessing after clusters`"
   ]
  },
  {
   "cell_type": "code",
   "execution_count": 32,
   "id": "b7d4bcc5",
   "metadata": {
    "ExecuteTime": {
     "end_time": "2023-07-19T12:37:20.138649Z",
     "start_time": "2023-07-19T12:37:20.100493Z"
    }
   },
   "outputs": [
    {
     "data": {
      "text/html": [
       "<div>\n",
       "<style scoped>\n",
       "    .dataframe tbody tr th:only-of-type {\n",
       "        vertical-align: middle;\n",
       "    }\n",
       "\n",
       "    .dataframe tbody tr th {\n",
       "        vertical-align: top;\n",
       "    }\n",
       "\n",
       "    .dataframe thead th {\n",
       "        text-align: right;\n",
       "    }\n",
       "</style>\n",
       "<table border=\"1\" class=\"dataframe\">\n",
       "  <thead>\n",
       "    <tr style=\"text-align: right;\">\n",
       "      <th></th>\n",
       "      <th>temperatureHigh</th>\n",
       "      <th>humidity</th>\n",
       "      <th>uvIndex</th>\n",
       "      <th>cluster</th>\n",
       "    </tr>\n",
       "  </thead>\n",
       "  <tbody>\n",
       "    <tr>\n",
       "      <th>0</th>\n",
       "      <td>9</td>\n",
       "      <td>0.60</td>\n",
       "      <td>2</td>\n",
       "      <td>high</td>\n",
       "    </tr>\n",
       "    <tr>\n",
       "      <th>1</th>\n",
       "      <td>4</td>\n",
       "      <td>0.90</td>\n",
       "      <td>2</td>\n",
       "      <td>very high</td>\n",
       "    </tr>\n",
       "    <tr>\n",
       "      <th>2</th>\n",
       "      <td>8</td>\n",
       "      <td>0.76</td>\n",
       "      <td>3</td>\n",
       "      <td>high</td>\n",
       "    </tr>\n",
       "    <tr>\n",
       "      <th>3</th>\n",
       "      <td>7</td>\n",
       "      <td>0.69</td>\n",
       "      <td>3</td>\n",
       "      <td>very high</td>\n",
       "    </tr>\n",
       "    <tr>\n",
       "      <th>4</th>\n",
       "      <td>4</td>\n",
       "      <td>0.88</td>\n",
       "      <td>2</td>\n",
       "      <td>very high</td>\n",
       "    </tr>\n",
       "  </tbody>\n",
       "</table>\n",
       "</div>"
      ],
      "text/plain": [
       "   temperatureHigh  humidity  uvIndex    cluster\n",
       "0                9      0.60        2       high\n",
       "1                4      0.90        2  very high\n",
       "2                8      0.76        3       high\n",
       "3                7      0.69        3  very high\n",
       "4                4      0.88        2  very high"
      ]
     },
     "execution_count": 32,
     "metadata": {},
     "output_type": "execute_result"
    }
   ],
   "source": [
    "cluster_names = ['very low','low', 'mid','high', 'very high']\n",
    "df['cluster'] = df['cluster'].replace([4,0,2,1,3], cluster_names)\n",
    "df.head()"
   ]
  },
  {
   "cell_type": "code",
   "execution_count": 33,
   "id": "f41e3a51",
   "metadata": {
    "ExecuteTime": {
     "end_time": "2023-07-19T12:37:20.169611Z",
     "start_time": "2023-07-19T12:37:20.142539Z"
    }
   },
   "outputs": [],
   "source": [
    "## drop and separate label \n",
    "x = df.drop('cluster',axis='columns')\n",
    "y = df['cluster']"
   ]
  },
  {
   "cell_type": "code",
   "execution_count": 34,
   "id": "8bd931a6",
   "metadata": {
    "ExecuteTime": {
     "end_time": "2023-07-19T12:37:20.479881Z",
     "start_time": "2023-07-19T12:37:20.447939Z"
    }
   },
   "outputs": [
    {
     "name": "stdout",
     "output_type": "stream",
     "text": [
      "shape of training data is (22287, 3)\n",
      "\n",
      "\n",
      "shape of testing data is (5572, 3)\n"
     ]
    }
   ],
   "source": [
    "## splitting data to train and test\n",
    "X_train, X_test, y_train, y_test = train_test_split(x, y, test_size=0.2, random_state=42)\n",
    "print(f'shape of training data is {X_train.shape}')\n",
    "print('\\n')\n",
    "print(f'shape of testing data is {X_test.shape}')"
   ]
  },
  {
   "cell_type": "markdown",
   "id": "6202aca6",
   "metadata": {
    "ExecuteTime": {
     "end_time": "2023-06-19T21:29:38.155540Z",
     "start_time": "2023-06-19T21:29:38.064577Z"
    }
   },
   "source": [
    "`Decission Tree` "
   ]
  },
  {
   "cell_type": "code",
   "execution_count": 35,
   "id": "86737b41",
   "metadata": {
    "ExecuteTime": {
     "end_time": "2023-07-19T12:37:21.073489Z",
     "start_time": "2023-07-19T12:37:20.999340Z"
    },
    "scrolled": true
   },
   "outputs": [
    {
     "data": {
      "text/plain": [
       "DecisionTreeClassifier()"
      ]
     },
     "execution_count": 35,
     "metadata": {},
     "output_type": "execute_result"
    }
   ],
   "source": [
    "model = tree.DecisionTreeClassifier()\n",
    "model.fit(X_train,y_train)"
   ]
  },
  {
   "cell_type": "code",
   "execution_count": 36,
   "id": "ff18bb5d",
   "metadata": {
    "ExecuteTime": {
     "end_time": "2023-07-19T12:37:22.316061Z",
     "start_time": "2023-07-19T12:37:22.248282Z"
    }
   },
   "outputs": [
    {
     "name": "stdout",
     "output_type": "stream",
     "text": [
      "the accurecy on training data is 1.0\n",
      "\n",
      "\n",
      "the accurecy on testing data is 0.9998205312275664\n"
     ]
    }
   ],
   "source": [
    "print(f'the accurecy on training data is {model.score(X_train,y_train)}')\n",
    "print('\\n')\n",
    "print(f'the accurecy on testing data is {model.score(X_test,y_test)}')"
   ]
  },
  {
   "cell_type": "markdown",
   "id": "6b55a118",
   "metadata": {},
   "source": [
    "# save model\n",
    "\n",
    "\n",
    "\n",
    "\n",
    "\n",
    "\n",
    "\n"
   ]
  },
  {
   "cell_type": "code",
   "execution_count": 38,
   "id": "ade27fb2",
   "metadata": {
    "ExecuteTime": {
     "end_time": "2023-07-19T12:38:00.368419Z",
     "start_time": "2023-07-19T12:38:00.342441Z"
    }
   },
   "outputs": [
    {
     "data": {
      "text/plain": [
       "['spread_virus.pkl']"
      ]
     },
     "execution_count": 38,
     "metadata": {},
     "output_type": "execute_result"
    }
   ],
   "source": [
    "joblib.dump(model, 'spread_virus.pkl')"
   ]
  },
  {
   "cell_type": "code",
   "execution_count": 40,
   "id": "e209708a",
   "metadata": {
    "ExecuteTime": {
     "end_time": "2023-07-19T12:38:29.201914Z",
     "start_time": "2023-07-19T12:38:29.179936Z"
    }
   },
   "outputs": [],
   "source": [
    "loaded_model= joblib.load('spread_virus.pkl')"
   ]
  },
  {
   "cell_type": "code",
   "execution_count": 42,
   "id": "00b18f43",
   "metadata": {
    "ExecuteTime": {
     "end_time": "2023-07-19T12:38:58.248903Z",
     "start_time": "2023-07-19T12:38:58.236901Z"
    },
    "scrolled": false
   },
   "outputs": [
    {
     "data": {
      "text/plain": [
       "array(['very low'], dtype=object)"
      ]
     },
     "execution_count": 42,
     "metadata": {},
     "output_type": "execute_result"
    }
   ],
   "source": [
    "loaded_model.predict([[20,0.8,12]])"
   ]
  },
  {
   "cell_type": "code",
   "execution_count": null,
   "id": "ded496aa",
   "metadata": {},
   "outputs": [],
   "source": []
  }
 ],
 "metadata": {
  "kernelspec": {
   "display_name": "Python 3 (ipykernel)",
   "language": "python",
   "name": "python3"
  },
  "language_info": {
   "codemirror_mode": {
    "name": "ipython",
    "version": 3
   },
   "file_extension": ".py",
   "mimetype": "text/x-python",
   "name": "python",
   "nbconvert_exporter": "python",
   "pygments_lexer": "ipython3",
   "version": "3.9.7"
  }
 },
 "nbformat": 4,
 "nbformat_minor": 5
}
